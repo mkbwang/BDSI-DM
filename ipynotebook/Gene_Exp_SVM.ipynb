{
 "cells": [
  {
   "cell_type": "markdown",
   "metadata": {},
   "source": [
    "# SVM on the Gene Expression"
   ]
  },
  {
   "cell_type": "code",
   "execution_count": 1,
   "metadata": {},
   "outputs": [
    {
     "name": "stderr",
     "output_type": "stream",
     "text": [
      "\n",
      "Attaching package: ‘dplyr’\n",
      "\n",
      "The following objects are masked from ‘package:stats’:\n",
      "\n",
      "    filter, lag\n",
      "\n",
      "The following objects are masked from ‘package:base’:\n",
      "\n",
      "    intersect, setdiff, setequal, union\n",
      "\n"
     ]
    }
   ],
   "source": [
    "library(e1071)\n",
    "library(dplyr)"
   ]
  },
  {
   "cell_type": "code",
   "execution_count": 2,
   "metadata": {
    "collapsed": true
   },
   "outputs": [],
   "source": [
    "gdsc = readRDS('data/gdsc_screened.rds')\n",
    "gene = readRDS('data/gene_expression.rds')"
   ]
  },
  {
   "cell_type": "code",
   "execution_count": 3,
   "metadata": {
    "collapsed": true
   },
   "outputs": [],
   "source": [
    "gene_label = colnames(gene)# all the genes"
   ]
  },
  {
   "cell_type": "markdown",
   "metadata": {},
   "source": [
    "Doing feature selection for SVM is challenging. I have 2 alternatives: one is doing T test and pick top features with most extreme T statistics. The second way is doing PCA and pick the top PCs."
   ]
  },
  {
   "cell_type": "code",
   "execution_count": 4,
   "metadata": {
    "collapsed": true
   },
   "outputs": [],
   "source": [
    "codes <- c(\"1006\",\"1007\",\"1008\",\"1011\",\"1014\",\"1016\",\"1019\",\"1026\",\"1032\",\"1054\",\"1060\",\"1062\")\n",
    "n_features = c(2,3,5,10,50,100,200)\n",
    "resultmat = matrix(nrow=12,ncol=7)\n",
    "rownames(resultmat) = c(\"1006\",\"1007\",\"1008\",\"1011\",\"1014\",\"1016\",\"1019\",\"1026\",\"1032\",\"1054\",\"1060\",\"1062\")\n",
    "colnames(resultmat) = c(\"2\",\"3\",\"5\",\"10\",\"50\",\"100\",\"200\")"
   ]
  },
  {
   "cell_type": "code",
   "execution_count": 11,
   "metadata": {},
   "outputs": [],
   "source": [
    "for(code in codes){\n",
    "    gdsc_sub <- subset(gdsc, DRUG_ID_lib == code)[,c(\"CL\",\"EFFECT\")]\n",
    "    gene_sub <- gene[as.character(gdsc_sub$CL),]\n",
    "    outcome$T <- apply(gene_sub,2,get.t,gdsc_sub$EFFECT)\n",
    "    for (n_feature in n_features){\n",
    "        subset_id = outcome %>% top_n(n_feature,T) %>% select(Gene)\n",
    "        subset_id = unname(t(subset_id[,1]))\n",
    "        gene_sub_final = cbind(gene_sub[,subset_id],gdsc_sub$EFFECT)\n",
    "        colnames(gene_sub_final)[ncol(gene_sub_final)]='EFFECT' \n",
    "        gene_sub_final$EFFECT <- as.factor(gene_sub_final$EFFECT)\n",
    "        effective_sub = gene_sub_final %>% filter(EFFECT==TRUE)\n",
    "        ineffective_sub = gene_sub_final %>%  filter(EFFECT==FALSE)\n",
    "        effective_sub$EFFECT = as.factor(effective_sub$EFFECT)\n",
    "        ineffective_sub$EFFECT = as.factor(ineffective_sub$EFFECT)\n",
    "        tune.out = tune ( svm , EFFECT~., data = gene_sub_final , \n",
    "                 ranges = list ( cost = c (0.001 , 0.01 , 0.1 , 1 ,10 ,100,1000,10000),gamma=c(0.01,0.1,1,10,100,1000) ) )\n",
    "        accuracy_train_svm = c()\n",
    "        accuracy_test_svm = c()\n",
    "        for (i in 1:8){\n",
    "            set.seed(i)\n",
    "            train_effective_id = sample(1:nrow(effective_sub),0.7*nrow(effective_sub))\n",
    "            train_ineffective_id = sample(1:nrow(ineffective_sub),0.7*nrow(ineffective_sub))\n",
    "            train_sub = rbind(effective_sub[train_effective_id,],ineffective_sub[train_ineffective_id,])\n",
    "            test_sub = rbind(effective_sub[-train_effective_id,],ineffective_sub[-train_ineffective_id,])\n",
    "            mysvm = svm(EFFECT~.,data=train_sub,kernel=\"radial\",cost=tune.out$best.model$cost,gamma=tune.out$best.model$gamma,scale=FALSE)\n",
    "            # training_pred = predict(mysvm,train_sub)\n",
    "            # accuracy_train_svm[i] = mean(training_pred==train_sub[['EFFECT']])\n",
    "            test_pred = predict(mysvm,test_sub)\n",
    "            accuracy_test_svm[i] = mean(test_pred==test_sub[['EFFECT']])\n",
    "        }\n",
    "        resultmat[code,toString(n_feature)] = mean(accuracy_test_svm)\n",
    "    }\n",
    "}"
   ]
  },
  {
   "cell_type": "code",
   "execution_count": 13,
   "metadata": {},
   "outputs": [],
   "source": [
    "saveRDS(resultmat,\"data/gene_exp_svm_result.rds\")"
   ]
  },
  {
   "cell_type": "code",
   "execution_count": 5,
   "metadata": {
    "collapsed": true
   },
   "outputs": [],
   "source": [
    "gdsc_sub <- subset(gdsc, DRUG_ID_lib == '1014')[,c(\"CL\",\"EFFECT\")]\n",
    "gene_sub <- gene[as.character(gdsc_sub$CL),]"
   ]
  },
  {
   "cell_type": "code",
   "execution_count": 6,
   "metadata": {
    "collapsed": true
   },
   "outputs": [],
   "source": [
    "# write a function to calculate the test statistics for a single gene (column)\n",
    "get.t <- function(dat, labs){\n",
    "    # split the data into effective and ineffective\n",
    "    effect <- dat[labs]\n",
    "    ineffect <- dat[!labs]\n",
    "    \n",
    "    # calculate the two sample means\n",
    "    effect.bar <- mean(effect)\n",
    "    ineffect.bar <- mean(ineffect)\n",
    "    \n",
    "    # calculate the two sample variances\n",
    "    v.effect <- var(effect)\n",
    "    v.ineffect <- var(ineffect)\n",
    "    \n",
    "    # calculate the sample sizes\n",
    "    n.effect <- length(effect)\n",
    "    n.ineffect <- length(ineffect)\n",
    "    \n",
    "    # calculate the sd\n",
    "    s <- sqrt((v.effect/n.effect) + (v.ineffect/n.ineffect))\n",
    "    \n",
    "    # calculate the test statistic\n",
    "    T <- (effect.bar - ineffect.bar)/s\n",
    "    \n",
    "    # calculate the degrees of freedom\n",
    "    # df = ((v.effect/n.effect+v.ineffect/n.ineffect)^2)/(v.effect^2/(n.effect^2 * (n.effect-1))+v.ineffect^2/(n.ineffect^2 * (n.ineffect-1)))\n",
    "    \n",
    "    # compare our t value and the threshold, decide whether we should keep it or not\n",
    "    return(abs(T))\n",
    "}"
   ]
  },
  {
   "cell_type": "code",
   "execution_count": 8,
   "metadata": {
    "collapsed": true
   },
   "outputs": [],
   "source": [
    "outcome <- data.frame(Gene = colnames(gene))"
   ]
  },
  {
   "cell_type": "code",
   "execution_count": 8,
   "metadata": {
    "collapsed": true
   },
   "outputs": [],
   "source": [
    "outcome$T <- apply(gene_sub,2,get.t,gdsc_sub$EFFECT)"
   ]
  },
  {
   "cell_type": "markdown",
   "metadata": {},
   "source": [
    "We try to do SVM with the features that have the most extreme T statistics."
   ]
  },
  {
   "cell_type": "code",
   "execution_count": 90,
   "metadata": {
    "collapsed": true
   },
   "outputs": [],
   "source": [
    "subset_id = outcome %>% top_n(5,T) %>% select(Gene)\n",
    "subset_id = unname(t(subset_id[,1]))"
   ]
  },
  {
   "cell_type": "code",
   "execution_count": 91,
   "metadata": {
    "collapsed": true
   },
   "outputs": [],
   "source": [
    "gene_sub_final = cbind(gene_sub[,subset_id],gdsc_sub$EFFECT)\n",
    "colnames(gene_sub_final)[6]='EFFECT'"
   ]
  },
  {
   "cell_type": "code",
   "execution_count": 92,
   "metadata": {
    "collapsed": true
   },
   "outputs": [],
   "source": [
    "effective_sub = gene_sub_final %>% filter(EFFECT==TRUE)\n",
    "ineffective_sub = gene_sub_final %>%  filter(EFFECT==FALSE)\n",
    "effective_sub$EFFECT = as.factor(effective_sub$EFFECT)\n",
    "ineffective_sub$EFFECT = as.factor(ineffective_sub$EFFECT)"
   ]
  },
  {
   "cell_type": "code",
   "execution_count": 93,
   "metadata": {
    "collapsed": true
   },
   "outputs": [],
   "source": [
    "gene_sub_final$EFFECT = as.factor(gene_sub_final$EFFECT)"
   ]
  },
  {
   "cell_type": "code",
   "execution_count": 109,
   "metadata": {
    "collapsed": true
   },
   "outputs": [],
   "source": [
    "tune.out = tune ( svm , EFFECT~., data = gene_sub_final , \n",
    "                 ranges = list ( cost = c (0.001 , 0.01 , 0.1 , 1 ,10 ,100,1000,10000),gamma=c(0.01,0.1,1,10,100,1000) ) )"
   ]
  },
  {
   "cell_type": "code",
   "execution_count": 110,
   "metadata": {},
   "outputs": [
    {
     "data": {
      "text/plain": [
       "\n",
       "Call:\n",
       "best.tune(method = svm, train.x = EFFECT ~ ., data = gene_sub_final, \n",
       "    ranges = list(cost = c(0.001, 0.01, 0.1, 1, 10, 100, 1000, 10000), \n",
       "        gamma = c(0.01, 0.1, 0.2, 1, 10, 100, 1000)))\n",
       "\n",
       "\n",
       "Parameters:\n",
       "   SVM-Type:  C-classification \n",
       " SVM-Kernel:  radial \n",
       "       cost:  100 \n",
       "      gamma:  0.01 \n",
       "\n",
       "Number of Support Vectors:  74\n"
      ]
     },
     "metadata": {},
     "output_type": "display_data"
    }
   ],
   "source": [
    "tune.out$best.model"
   ]
  },
  {
   "cell_type": "code",
   "execution_count": 33,
   "metadata": {
    "collapsed": true
   },
   "outputs": [],
   "source": [
    "mysvm = svm(EFFECT~.,data=gene_sub_final,kernel=\"linear\",cost=tune.out$best.model$cost,scale=FALSE)"
   ]
  },
  {
   "cell_type": "code",
   "execution_count": 99,
   "metadata": {
    "collapsed": true
   },
   "outputs": [],
   "source": [
    "accuracy_train_svm = c()\n",
    "accuracy_test_svm = c()\n",
    "for (i in 1:8){\n",
    "    set.seed(i)\n",
    "    train_effective_id = sample(1:nrow(effective_sub),0.7*nrow(effective_sub))\n",
    "    train_ineffective_id = sample(1:nrow(ineffective_sub),0.7*nrow(ineffective_sub))\n",
    "    train_sub = rbind(effective_sub[train_effective_id,],ineffective_sub[train_ineffective_id,])\n",
    "    test_sub = rbind(effective_sub[-train_effective_id,],ineffective_sub[-train_ineffective_id,])\n",
    "    mysvm = svm(EFFECT~.,data=train_sub,kernel=\"radial\",cost=tune.out$best.model$cost,gamma=tune.out$best.model$gamma,scale=FALSE)\n",
    "    training_pred = predict(mysvm,train_sub)\n",
    "    accuracy_train_svm[i] = mean(training_pred==train_sub[['EFFECT']])\n",
    "    test_pred = predict(mysvm,test_sub)\n",
    "    accuracy_test_svm[i] = mean(test_pred==test_sub[['EFFECT']])\n",
    "}"
   ]
  },
  {
   "cell_type": "code",
   "execution_count": 39,
   "metadata": {},
   "outputs": [
    {
     "data": {
      "text/html": [
       "<ol class=list-inline>\n",
       "\t<li>0.87719298245614</li>\n",
       "\t<li>0.888888888888889</li>\n",
       "\t<li>0.87719298245614</li>\n",
       "\t<li>0.883040935672515</li>\n",
       "\t<li>0.883040935672515</li>\n",
       "\t<li>0.871345029239766</li>\n",
       "\t<li>0.871345029239766</li>\n",
       "\t<li>0.883040935672515</li>\n",
       "</ol>\n"
      ],
      "text/latex": [
       "\\begin{enumerate*}\n",
       "\\item 0.87719298245614\n",
       "\\item 0.888888888888889\n",
       "\\item 0.87719298245614\n",
       "\\item 0.883040935672515\n",
       "\\item 0.883040935672515\n",
       "\\item 0.871345029239766\n",
       "\\item 0.871345029239766\n",
       "\\item 0.883040935672515\n",
       "\\end{enumerate*}\n"
      ],
      "text/markdown": [
       "1. 0.87719298245614\n",
       "2. 0.888888888888889\n",
       "3. 0.87719298245614\n",
       "4. 0.883040935672515\n",
       "5. 0.883040935672515\n",
       "6. 0.871345029239766\n",
       "7. 0.871345029239766\n",
       "8. 0.883040935672515\n",
       "\n",
       "\n"
      ],
      "text/plain": [
       "[1] 0.8771930 0.8888889 0.8771930 0.8830409 0.8830409 0.8713450 0.8713450\n",
       "[8] 0.8830409"
      ]
     },
     "metadata": {},
     "output_type": "display_data"
    }
   ],
   "source": [
    "accuracy_train_svm"
   ]
  },
  {
   "cell_type": "code",
   "execution_count": 100,
   "metadata": {},
   "outputs": [
    {
     "data": {
      "text/html": [
       "0.868333333333333"
      ],
      "text/latex": [
       "0.868333333333333"
      ],
      "text/markdown": [
       "0.868333333333333"
      ],
      "text/plain": [
       "[1] 0.8683333"
      ]
     },
     "metadata": {},
     "output_type": "display_data"
    }
   ],
   "source": [
    "mean(accuracy_test_svm)"
   ]
  },
  {
   "cell_type": "code",
   "execution_count": 53,
   "metadata": {},
   "outputs": [
    {
     "data": {
      "text/html": [
       "<ol class=list-inline>\n",
       "\t<li>0.87719298245614</li>\n",
       "\t<li>0.883040935672515</li>\n",
       "\t<li>0.883040935672515</li>\n",
       "\t<li>0.883040935672515</li>\n",
       "\t<li>0.883040935672515</li>\n",
       "\t<li>0.865497076023392</li>\n",
       "\t<li>0.853801169590643</li>\n",
       "\t<li>0.888888888888889</li>\n",
       "</ol>\n"
      ],
      "text/latex": [
       "\\begin{enumerate*}\n",
       "\\item 0.87719298245614\n",
       "\\item 0.883040935672515\n",
       "\\item 0.883040935672515\n",
       "\\item 0.883040935672515\n",
       "\\item 0.883040935672515\n",
       "\\item 0.865497076023392\n",
       "\\item 0.853801169590643\n",
       "\\item 0.888888888888889\n",
       "\\end{enumerate*}\n"
      ],
      "text/markdown": [
       "1. 0.87719298245614\n",
       "2. 0.883040935672515\n",
       "3. 0.883040935672515\n",
       "4. 0.883040935672515\n",
       "5. 0.883040935672515\n",
       "6. 0.865497076023392\n",
       "7. 0.853801169590643\n",
       "8. 0.888888888888889\n",
       "\n",
       "\n"
      ],
      "text/plain": [
       "[1] 0.8771930 0.8830409 0.8830409 0.8830409 0.8830409 0.8654971 0.8538012\n",
       "[8] 0.8888889"
      ]
     },
     "metadata": {},
     "output_type": "display_data"
    }
   ],
   "source": [
    "accuracy_train_svm"
   ]
  },
  {
   "cell_type": "code",
   "execution_count": 54,
   "metadata": {},
   "outputs": [
    {
     "data": {
      "text/html": [
       "<ol class=list-inline>\n",
       "\t<li>0.84</li>\n",
       "\t<li>0.84</li>\n",
       "\t<li>0.84</li>\n",
       "\t<li>0.826666666666667</li>\n",
       "\t<li>0.866666666666667</li>\n",
       "\t<li>0.88</li>\n",
       "\t<li>0.866666666666667</li>\n",
       "\t<li>0.84</li>\n",
       "</ol>\n"
      ],
      "text/latex": [
       "\\begin{enumerate*}\n",
       "\\item 0.84\n",
       "\\item 0.84\n",
       "\\item 0.84\n",
       "\\item 0.826666666666667\n",
       "\\item 0.866666666666667\n",
       "\\item 0.88\n",
       "\\item 0.866666666666667\n",
       "\\item 0.84\n",
       "\\end{enumerate*}\n"
      ],
      "text/markdown": [
       "1. 0.84\n",
       "2. 0.84\n",
       "3. 0.84\n",
       "4. 0.826666666666667\n",
       "5. 0.866666666666667\n",
       "6. 0.88\n",
       "7. 0.866666666666667\n",
       "8. 0.84\n",
       "\n",
       "\n"
      ],
      "text/plain": [
       "[1] 0.8400000 0.8400000 0.8400000 0.8266667 0.8666667 0.8800000 0.8666667\n",
       "[8] 0.8400000"
      ]
     },
     "metadata": {},
     "output_type": "display_data"
    }
   ],
   "source": [
    "accuracy_test_svm"
   ]
  },
  {
   "cell_type": "code",
   "execution_count": 63,
   "metadata": {
    "collapsed": true
   },
   "outputs": [],
   "source": [
    "candidates <- c(\"1006\",\"1007\",\"1008\",\"1011\",\"1014\",\"1016\",\"1019\",\"1026\",\"1032\",\"1054\",\"1060\",\"1062\")"
   ]
  },
  {
   "cell_type": "code",
   "execution_count": 68,
   "metadata": {
    "collapsed": true
   },
   "outputs": [],
   "source": [
    "train.accuracies <- rep(0,12)\n",
    "test.accuracies <- rep(0,12)\n",
    "\n",
    "names(train.accuracies) <- c(\"1006\",\"1007\",\"1008\",\"1011\",\"1014\",\"1016\",\"1019\",\"1026\",\"1032\",\"1054\",\"1060\",\"1062\")\n",
    "names(test.accuracies) <- c(\"1006\",\"1007\",\"1008\",\"1011\",\"1014\",\"1016\",\"1019\",\"1026\",\"1032\",\"1054\",\"1060\",\"1062\")"
   ]
  },
  {
   "cell_type": "code",
   "execution_count": 65,
   "metadata": {
    "collapsed": true
   },
   "outputs": [],
   "source": [
    "for (j in 1:length(candidates)){\n",
    "    gdsc_sub <- subset(gdsc, DRUG_ID_lib == candidates[j])[,c(\"CL\",\"EFFECT\")]\n",
    "    gene_sub <- gene[as.character(gdsc_sub$CL),]\n",
    "    gene_sub_new = cbind(gene_sub,gdsc_sub['EFFECT'])\n",
    "    #gene_sub_new$EFFECT = as.factor(gene_sub_new$EFFECT)\n",
    "    effective_sub = gene_sub_new %>% filter(EFFECT==TRUE)\n",
    "    ineffective_sub = gene_sub_new %>%  filter(EFFECT==FALSE)\n",
    "    gene_subset_id = c()\n",
    "    count = 0\n",
    "    for (gene_id in gene_label){\n",
    "        ttestout = t.test(effective_sub[[gene_id]],ineffective_sub[[gene_id]])\n",
    "        if (ttestout$p.value < 0.05/17737){\n",
    "            count = count+1\n",
    "            gene_subset_id[count] = gene_id\n",
    "        }\n",
    "    }\n",
    "    pr.out = prcomp(gene_sub_new[,gene_subset_id])\n",
    "    gene_sub_reduced = cbind(pr.out$x[,1:3],gene_sub_new[,17738])#pick the first 3 PCs\n",
    "    colnames(gene_sub_reduced)[4] = 'EFFECT' \n",
    "    gene_sub_reduced = as.data.frame(gene_sub_reduced)\n",
    "    gene_sub_reduced$EFFECT = as.factor(gene_sub_reduced$EFFECT)\n",
    "    tune.out = tune ( svm , EFFECT~., data = gene_sub_reduced , kernel =\"linear\",\n",
    "                 ranges = list ( cost = c (0.001 , 0.01 , 0.05,0.1 , 1 ,5 ,10 ,100) ) )\n",
    "    effective_sub_reduced = gene_sub_reduced[gene_sub_reduced['EFFECT']==1,]\n",
    "    ineffective_sub_reduced = gene_sub_reduced[gene_sub_reduced['EFFECT']==0,]\n",
    "    accuracy_train_svm = c()\n",
    "    accuracy_test_svm = c()\n",
    "    for (i in 1:8){\n",
    "        set.seed(i)\n",
    "        train_effective_id = sample(1:nrow(effective_sub_reduced),0.7*nrow(effective_sub_reduced))\n",
    "        train_ineffective_id = sample(1:nrow(ineffective_sub_reduced),0.7*nrow(ineffective_sub_reduced))\n",
    "        train_sub = rbind(effective_sub_reduced[train_effective_id,],ineffective_sub_reduced[train_ineffective_id,])\n",
    "        test_sub = rbind(effective_sub_reduced[-train_effective_id,],ineffective_sub_reduced[-train_ineffective_id,])\n",
    "        mysvm = svm(EFFECT~.,data=train_sub,kernel=\"linear\",cost=tune.out$best.model$cost,scale=FALSE)\n",
    "        training_pred = predict(mysvm,train_sub)\n",
    "        accuracy_train_svm[i] = mean(training_pred==train_sub[['EFFECT']])\n",
    "        test_pred = predict(mysvm,test_sub)\n",
    "        accuracy_test_svm[i] = mean(test_pred==test_sub[['EFFECT']])\n",
    "    }\n",
    "    train.accuracies[candidates[j]] = mean(accuracy_train_svm)\n",
    "    test.accuracies[candidates[j]] = mean(accuracy_test_svm)\n",
    "}"
   ]
  },
  {
   "cell_type": "code",
   "execution_count": 69,
   "metadata": {
    "scrolled": true
   },
   "outputs": [
    {
     "data": {
      "text/html": [
       "<dl class=dl-horizontal>\n",
       "\t<dt>1006</dt>\n",
       "\t\t<dd>0.822860962566845</dd>\n",
       "\t<dt>1007</dt>\n",
       "\t\t<dd>0.861191860465116</dd>\n",
       "\t<dt>1008</dt>\n",
       "\t\t<dd>0.934782608695652</dd>\n",
       "\t<dt>1011</dt>\n",
       "\t\t<dd>0.875</dd>\n",
       "\t<dt>1014</dt>\n",
       "\t\t<dd>0.899853801169591</dd>\n",
       "\t<dt>1016</dt>\n",
       "\t\t<dd>0.871913580246914</dd>\n",
       "\t<dt>1019</dt>\n",
       "\t\t<dd>0.972612359550562</dd>\n",
       "\t<dt>1026</dt>\n",
       "\t\t<dd>0.894366197183099</dd>\n",
       "\t<dt>1032</dt>\n",
       "\t\t<dd>0.926215277777778</dd>\n",
       "\t<dt>1054</dt>\n",
       "\t\t<dd>0.762573964497041</dd>\n",
       "\t<dt>1060</dt>\n",
       "\t\t<dd>0.816428571428572</dd>\n",
       "\t<dt>1062</dt>\n",
       "\t\t<dd>0.886111111111111</dd>\n",
       "</dl>\n"
      ],
      "text/latex": [
       "\\begin{description*}\n",
       "\\item[1006] 0.822860962566845\n",
       "\\item[1007] 0.861191860465116\n",
       "\\item[1008] 0.934782608695652\n",
       "\\item[1011] 0.875\n",
       "\\item[1014] 0.899853801169591\n",
       "\\item[1016] 0.871913580246914\n",
       "\\item[1019] 0.972612359550562\n",
       "\\item[1026] 0.894366197183099\n",
       "\\item[1032] 0.926215277777778\n",
       "\\item[1054] 0.762573964497041\n",
       "\\item[1060] 0.816428571428572\n",
       "\\item[1062] 0.886111111111111\n",
       "\\end{description*}\n"
      ],
      "text/markdown": [
       "1006\n",
       ":   0.8228609625668451007\n",
       ":   0.8611918604651161008\n",
       ":   0.9347826086956521011\n",
       ":   0.8751014\n",
       ":   0.8998538011695911016\n",
       ":   0.8719135802469141019\n",
       ":   0.9726123595505621026\n",
       ":   0.8943661971830991032\n",
       ":   0.9262152777777781054\n",
       ":   0.7625739644970411060\n",
       ":   0.8164285714285721062\n",
       ":   0.886111111111111\n",
       "\n"
      ],
      "text/plain": [
       "     1006      1007      1008      1011      1014      1016      1019      1026 \n",
       "0.8228610 0.8611919 0.9347826 0.8750000 0.8998538 0.8719136 0.9726124 0.8943662 \n",
       "     1032      1054      1060      1062 \n",
       "0.9262153 0.7625740 0.8164286 0.8861111 "
      ]
     },
     "metadata": {},
     "output_type": "display_data"
    }
   ],
   "source": [
    "train.accuracies"
   ]
  },
  {
   "cell_type": "code",
   "execution_count": 70,
   "metadata": {
    "scrolled": true
   },
   "outputs": [
    {
     "data": {
      "text/html": [
       "<dl class=dl-horizontal>\n",
       "\t<dt>1006</dt>\n",
       "\t\t<dd>0.788109756097561</dd>\n",
       "\t<dt>1007</dt>\n",
       "\t\t<dd>0.85472972972973</dd>\n",
       "\t<dt>1008</dt>\n",
       "\t\t<dd>0.941441441441441</dd>\n",
       "\t<dt>1011</dt>\n",
       "\t\t<dd>0.887626262626263</dd>\n",
       "\t<dt>1014</dt>\n",
       "\t\t<dd>0.875</dd>\n",
       "\t<dt>1016</dt>\n",
       "\t\t<dd>0.850352112676056</dd>\n",
       "\t<dt>1019</dt>\n",
       "\t\t<dd>0.961538461538462</dd>\n",
       "\t<dt>1026</dt>\n",
       "\t\t<dd>0.887096774193548</dd>\n",
       "\t<dt>1032</dt>\n",
       "\t\t<dd>0.908266129032258</dd>\n",
       "\t<dt>1054</dt>\n",
       "\t\t<dd>0.721283783783784</dd>\n",
       "\t<dt>1060</dt>\n",
       "\t\t<dd>0.799342105263158</dd>\n",
       "\t<dt>1062</dt>\n",
       "\t\t<dd>0.88659793814433</dd>\n",
       "</dl>\n"
      ],
      "text/latex": [
       "\\begin{description*}\n",
       "\\item[1006] 0.788109756097561\n",
       "\\item[1007] 0.85472972972973\n",
       "\\item[1008] 0.941441441441441\n",
       "\\item[1011] 0.887626262626263\n",
       "\\item[1014] 0.875\n",
       "\\item[1016] 0.850352112676056\n",
       "\\item[1019] 0.961538461538462\n",
       "\\item[1026] 0.887096774193548\n",
       "\\item[1032] 0.908266129032258\n",
       "\\item[1054] 0.721283783783784\n",
       "\\item[1060] 0.799342105263158\n",
       "\\item[1062] 0.88659793814433\n",
       "\\end{description*}\n"
      ],
      "text/markdown": [
       "1006\n",
       ":   0.7881097560975611007\n",
       ":   0.854729729729731008\n",
       ":   0.9414414414414411011\n",
       ":   0.8876262626262631014\n",
       ":   0.8751016\n",
       ":   0.8503521126760561019\n",
       ":   0.9615384615384621026\n",
       ":   0.8870967741935481032\n",
       ":   0.9082661290322581054\n",
       ":   0.7212837837837841060\n",
       ":   0.7993421052631581062\n",
       ":   0.88659793814433\n",
       "\n"
      ],
      "text/plain": [
       "     1006      1007      1008      1011      1014      1016      1019      1026 \n",
       "0.7881098 0.8547297 0.9414414 0.8876263 0.8750000 0.8503521 0.9615385 0.8870968 \n",
       "     1032      1054      1060      1062 \n",
       "0.9082661 0.7212838 0.7993421 0.8865979 "
      ]
     },
     "metadata": {},
     "output_type": "display_data"
    }
   ],
   "source": [
    "test.accuracies"
   ]
  },
  {
   "cell_type": "code",
   "execution_count": 48,
   "metadata": {
    "collapsed": true
   },
   "outputs": [],
   "source": [
    "pr.out = prcomp(gene_sub_new[,gene_subset_id])"
   ]
  },
  {
   "cell_type": "code",
   "execution_count": 49,
   "metadata": {
    "collapsed": true
   },
   "outputs": [],
   "source": [
    "gene_sub_reduced = cbind(pr.out$x[,1:3],gene_sub_new[,17738])"
   ]
  },
  {
   "cell_type": "code",
   "execution_count": 50,
   "metadata": {
    "collapsed": true
   },
   "outputs": [],
   "source": [
    "colnames(gene_sub_reduced)[4] = 'EFFECT' "
   ]
  },
  {
   "cell_type": "code",
   "execution_count": 54,
   "metadata": {
    "collapsed": true
   },
   "outputs": [],
   "source": [
    "gene_sub_reduced = as.data.frame(gene_sub_reduced)\n",
    "gene_sub_reduced$EFFECT = as.factor(gene_sub_reduced$EFFECT)"
   ]
  },
  {
   "cell_type": "code",
   "execution_count": 55,
   "metadata": {
    "collapsed": true
   },
   "outputs": [],
   "source": [
    "tune.out = tune ( svm , EFFECT~., data = gene_sub_reduced , kernel =\"linear\",\n",
    "                 ranges = list ( cost = c (0.001 , 0.01 , 0.05,0.1 , 1 ,5 ,10 ,100) ) )"
   ]
  },
  {
   "cell_type": "code",
   "execution_count": 56,
   "metadata": {},
   "outputs": [
    {
     "data": {
      "text/html": [
       "5"
      ],
      "text/latex": [
       "5"
      ],
      "text/markdown": [
       "5"
      ],
      "text/plain": [
       "[1] 5"
      ]
     },
     "metadata": {},
     "output_type": "display_data"
    }
   ],
   "source": [
    "tune.out$best.model$cost"
   ]
  },
  {
   "cell_type": "code",
   "execution_count": 57,
   "metadata": {
    "collapsed": true
   },
   "outputs": [],
   "source": [
    "effective_1014 = gene_sub_reduced[gene_sub_reduced['EFFECT']==1,]\n",
    "ineffective_1014 = gene_sub_reduced[gene_sub_reduced['EFFECT']==0,]"
   ]
  },
  {
   "cell_type": "code",
   "execution_count": 58,
   "metadata": {
    "collapsed": true
   },
   "outputs": [],
   "source": [
    "accuracy_train_svm = c()\n",
    "accuracy_test_svm = c()\n",
    "for (i in 1:8){\n",
    "        set.seed(i)\n",
    "        train_effective_id = sample(1:nrow(effective_1014),0.7*nrow(effective_1014))\n",
    "        train_ineffective_id = sample(1:nrow(ineffective_1014),0.7*nrow(ineffective_1014))\n",
    "        train_sub = rbind(effective_1014[train_effective_id,],ineffective_1014[train_ineffective_id,])\n",
    "        test_sub = rbind(effective_1014[-train_effective_id,],ineffective_1014[-train_ineffective_id,])\n",
    "        mysvm = svm(EFFECT~.,data=train_sub,kernel=\"linear\",cost=tune.out$best.model$cost,scale=FALSE)\n",
    "        training_pred = predict(mysvm,train_sub)\n",
    "        accuracy_train_svm[i] = mean(training_pred==train_sub[['EFFECT']])\n",
    "        test_pred = predict(mysvm,test_sub)\n",
    "        accuracy_test_svm[i] = mean(test_pred==test_sub[['EFFECT']])\n",
    "}"
   ]
  },
  {
   "cell_type": "code",
   "execution_count": 62,
   "metadata": {},
   "outputs": [
    {
     "data": {
      "text/html": [
       "0.899853801169591"
      ],
      "text/latex": [
       "0.899853801169591"
      ],
      "text/markdown": [
       "0.899853801169591"
      ],
      "text/plain": [
       "[1] 0.8998538"
      ]
     },
     "metadata": {},
     "output_type": "display_data"
    }
   ],
   "source": [
    "mean(accuracy_train_svm)"
   ]
  },
  {
   "cell_type": "code",
   "execution_count": 61,
   "metadata": {},
   "outputs": [
    {
     "data": {
      "text/html": [
       "0.875"
      ],
      "text/latex": [
       "0.875"
      ],
      "text/markdown": [
       "0.875"
      ],
      "text/plain": [
       "[1] 0.875"
      ]
     },
     "metadata": {},
     "output_type": "display_data"
    }
   ],
   "source": [
    "mean(accuracy_test_svm)"
   ]
  }
 ],
 "metadata": {
  "kernelspec": {
   "display_name": "R",
   "language": "R",
   "name": "ir"
  },
  "language_info": {
   "codemirror_mode": "r",
   "file_extension": ".r",
   "mimetype": "text/x-r-source",
   "name": "R",
   "pygments_lexer": "r",
   "version": "3.4.4"
  }
 },
 "nbformat": 4,
 "nbformat_minor": 2
}
