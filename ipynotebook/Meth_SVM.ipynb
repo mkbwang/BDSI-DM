{
 "cells": [
  {
   "cell_type": "markdown",
   "metadata": {},
   "source": [
    "# Methylation SVM"
   ]
  },
  {
   "cell_type": "code",
   "execution_count": 1,
   "metadata": {},
   "outputs": [
    {
     "name": "stderr",
     "output_type": "stream",
     "text": [
      "\n",
      "Attaching package: ‘dplyr’\n",
      "\n",
      "The following objects are masked from ‘package:stats’:\n",
      "\n",
      "    filter, lag\n",
      "\n",
      "The following objects are masked from ‘package:base’:\n",
      "\n",
      "    intersect, setdiff, setequal, union\n",
      "\n"
     ]
    }
   ],
   "source": [
    "library(e1071)\n",
    "library(dplyr)"
   ]
  },
  {
   "cell_type": "code",
   "execution_count": 2,
   "metadata": {
    "collapsed": true
   },
   "outputs": [],
   "source": [
    "gdsc = readRDS('data/gdsc_screened.rds')\n",
    "meth = readRDS('data/methylation_processed.rds')"
   ]
  },
  {
   "cell_type": "code",
   "execution_count": 3,
   "metadata": {
    "collapsed": true
   },
   "outputs": [],
   "source": [
    "meth_nona = t(na.omit(t(meth)))"
   ]
  },
  {
   "cell_type": "code",
   "execution_count": 4,
   "metadata": {
    "collapsed": true
   },
   "outputs": [],
   "source": [
    "get.t <- function(dat, labs){\n",
    "    # split the data into effective and ineffective\n",
    "    effect <- dat[labs]\n",
    "    ineffect <- dat[!labs]\n",
    "    \n",
    "    # calculate the two sample means\n",
    "    effect.bar <- mean(effect)\n",
    "    ineffect.bar <- mean(ineffect)\n",
    "    \n",
    "    # calculate the two sample variances\n",
    "    v.effect <- var(effect)\n",
    "    v.ineffect <- var(ineffect)\n",
    "    \n",
    "    # calculate the sample sizes\n",
    "    n.effect <- length(effect)\n",
    "    n.ineffect <- length(ineffect)\n",
    "    \n",
    "    # calculate the sd\n",
    "    s <- sqrt((v.effect/n.effect) + (v.ineffect/n.ineffect))\n",
    "    \n",
    "    # calculate the test statistic\n",
    "    T <- (effect.bar - ineffect.bar)/s\n",
    "    \n",
    "    # calculate the degrees of freedom\n",
    "    # df = ((v.effect/n.effect+v.ineffect/n.ineffect)^2)/(v.effect^2/(n.effect^2 * (n.effect-1))+v.ineffect^2/(n.ineffect^2 * (n.ineffect-1)))\n",
    "    \n",
    "    # compare our t value and the threshold, decide whether we should keep it or not\n",
    "    return(abs(T))\n",
    "}"
   ]
  },
  {
   "cell_type": "code",
   "execution_count": 5,
   "metadata": {
    "collapsed": true
   },
   "outputs": [],
   "source": [
    "codes <- c(\"1006\",\"1007\",\"1008\",\"1011\",\"1014\",\"1016\",\"1019\",\"1026\",\"1032\",\"1054\",\"1060\",\"1062\")\n",
    "n_features = c(2,3,5,10,50,100,200)\n",
    "resultmat = matrix(nrow=12,ncol=7)\n",
    "rownames(resultmat) = c(\"1006\",\"1007\",\"1008\",\"1011\",\"1014\",\"1016\",\"1019\",\"1026\",\"1032\",\"1054\",\"1060\",\"1062\")\n",
    "colnames(resultmat) = c(\"2\",\"3\",\"5\",\"10\",\"50\",\"100\",\"200\")"
   ]
  },
  {
   "cell_type": "code",
   "execution_count": 20,
   "metadata": {},
   "outputs": [
    {
     "name": "stdout",
     "output_type": "stream",
     "text": [
      "[1] \"meth_sub/meth_1006_subset_id.rds\"\n",
      "[1] \"meth_sub/meth_1007_subset_id.rds\"\n",
      "[1] \"meth_sub/meth_1008_subset_id.rds\"\n",
      "[1] \"meth_sub/meth_1011_subset_id.rds\"\n",
      "[1] \"meth_sub/meth_1014_subset_id.rds\"\n",
      "[1] \"meth_sub/meth_1016_subset_id.rds\"\n",
      "[1] \"meth_sub/meth_1019_subset_id.rds\"\n",
      "[1] \"meth_sub/meth_1026_subset_id.rds\"\n",
      "[1] \"meth_sub/meth_1032_subset_id.rds\"\n",
      "[1] \"meth_sub/meth_1054_subset_id.rds\"\n",
      "[1] \"meth_sub/meth_1060_subset_id.rds\"\n",
      "[1] \"meth_sub/meth_1062_subset_id.rds\"\n"
     ]
    }
   ],
   "source": [
    "for (code in codes){\n",
    "    subset_file = paste(c(\"meth\",\"sub/meth\",code,\"subset\",\"id.rds\"),collapse='_')\n",
    "    print(subset_file)\n",
    "    subset_id = readRDS(subset_file)\n",
    "    meth = meth_nona[,subset_id]\n",
    "    gdsc_sub <- subset(gdsc, DRUG_ID_lib == code)[,c(\"CL\",\"EFFECT\")]\n",
    "    meth_sub <- meth[as.character(gdsc_sub$CL),subset_id]\n",
    "    outcome <- data.frame(CG = colnames(meth))\n",
    "    outcome$T <- apply(meth_sub,2,get.t,gdsc_sub$EFFECT)\n",
    "    for (n_feature in n_features){\n",
    "        subset_id = outcome %>% top_n(n_feature,T) %>% select(CG)\n",
    "        subset_id = unname(t(subset_id[,1]))\n",
    "        meth_sub_final = cbind(meth_sub[,subset_id],gdsc_sub$EFFECT)\n",
    "        meth_sub_final = as.data.frame(meth_sub_final)\n",
    "        colnames(meth_sub_final)[ncol(meth_sub_final)]='EFFECT' \n",
    "        meth_sub_final$EFFECT <- as.factor(meth_sub_final$EFFECT)\n",
    "        effective_sub = meth_sub_final %>% filter(EFFECT==1)\n",
    "        ineffective_sub = meth_sub_final %>%  filter(EFFECT==0)\n",
    "        effective_sub$EFFECT = as.factor(effective_sub$EFFECT)\n",
    "        ineffective_sub$EFFECT = as.factor(ineffective_sub$EFFECT)\n",
    "        tune.out = tune ( svm , EFFECT~., data = meth_sub_final , \n",
    "                 ranges = list ( cost = c (0.001 , 0.01 , 0.1 , 1 ,10 ,100,1000,10000),gamma=c(0.01,0.1,1,10,100,1000) ) )\n",
    "        accuracy_test_svm = c()\n",
    "        for (i in 1:8){\n",
    "            set.seed(i)\n",
    "            train_effective_id = sample(1:nrow(effective_sub),0.7*nrow(effective_sub))\n",
    "            train_ineffective_id = sample(1:nrow(ineffective_sub),0.7*nrow(ineffective_sub))\n",
    "            train_sub = rbind(effective_sub[train_effective_id,],ineffective_sub[train_ineffective_id,])\n",
    "            test_sub = rbind(effective_sub[-train_effective_id,],ineffective_sub[-train_ineffective_id,])\n",
    "            mysvm = svm(EFFECT~.,data=train_sub,kernel=\"radial\",cost=tune.out$best.model$cost,gamma=tune.out$best.model$gamma,scale=FALSE)\n",
    "            # training_pred = predict(mysvm,train_sub)\n",
    "            # accuracy_train_svm[i] = mean(training_pred==train_sub[['EFFECT']])\n",
    "            test_pred = predict(mysvm,test_sub)\n",
    "            accuracy_test_svm[i] = mean(test_pred==test_sub[['EFFECT']])\n",
    "        }\n",
    "        resultmat[code,toString(n_feature)] = mean(accuracy_test_svm)\n",
    "    }\n",
    "}"
   ]
  },
  {
   "cell_type": "code",
   "execution_count": 22,
   "metadata": {},
   "outputs": [],
   "source": [
    "saveRDS(resultmat,\"data/meth_SVM_result.rds\")"
   ]
  }
 ],
 "metadata": {
  "kernelspec": {
   "display_name": "R",
   "language": "R",
   "name": "ir"
  },
  "language_info": {
   "codemirror_mode": "r",
   "file_extension": ".r",
   "mimetype": "text/x-r-source",
   "name": "R",
   "pygments_lexer": "r",
   "version": "3.4.4"
  }
 },
 "nbformat": 4,
 "nbformat_minor": 2
}
