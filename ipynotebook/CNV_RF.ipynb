{
 "cells": [
  {
   "cell_type": "markdown",
   "metadata": {},
   "source": [
    "# CNV Random Forest"
   ]
  },
  {
   "cell_type": "code",
   "execution_count": 1,
   "metadata": {},
   "outputs": [
    {
     "name": "stderr",
     "output_type": "stream",
     "text": [
      "randomForest 4.6-14\n",
      "Type rfNews() to see new features/changes/bug fixes.\n",
      "\n",
      "Attaching package: ‘dplyr’\n",
      "\n",
      "The following object is masked from ‘package:randomForest’:\n",
      "\n",
      "    combine\n",
      "\n",
      "The following objects are masked from ‘package:stats’:\n",
      "\n",
      "    filter, lag\n",
      "\n",
      "The following objects are masked from ‘package:base’:\n",
      "\n",
      "    intersect, setdiff, setequal, union\n",
      "\n"
     ]
    }
   ],
   "source": [
    "library(randomForest)\n",
    "library(dplyr)"
   ]
  },
  {
   "cell_type": "code",
   "execution_count": 2,
   "metadata": {},
   "outputs": [],
   "source": [
    "library(tictoc)"
   ]
  },
  {
   "cell_type": "code",
   "execution_count": 3,
   "metadata": {},
   "outputs": [],
   "source": [
    "gdsc = readRDS('/home/wangmk/UM/Research/BDSI/Data_Results/gdsc_screened.rds')\n",
    "cnv = readRDS('/home/wangmk/UM/Research/BDSI/Data_Results/cnNEW.rds')"
   ]
  },
  {
   "cell_type": "code",
   "execution_count": 4,
   "metadata": {},
   "outputs": [],
   "source": [
    "names(cnv) <- make.names(names(cnv))"
   ]
  },
  {
   "cell_type": "code",
   "execution_count": 5,
   "metadata": {},
   "outputs": [],
   "source": [
    "get.t <- function(dat, labs){\n",
    "    # split the data into effective and ineffective\n",
    "    effect <- dat[labs]\n",
    "    ineffect <- dat[!labs]\n",
    "    \n",
    "    # calculate the two sample means\n",
    "    effect.bar <- mean(effect)\n",
    "    ineffect.bar <- mean(ineffect)\n",
    "    \n",
    "    # calculate the two sample variances\n",
    "    v.effect <- var(effect)\n",
    "    v.ineffect <- var(ineffect)\n",
    "    \n",
    "    # calculate the sample sizes\n",
    "    n.effect <- length(effect)\n",
    "    n.ineffect <- length(ineffect)\n",
    "    \n",
    "    # calculate the sd\n",
    "    s <- sqrt((v.effect/n.effect) + (v.ineffect/n.ineffect))\n",
    "    \n",
    "    # calculate the test statistic\n",
    "    T <- (effect.bar - ineffect.bar)/s\n",
    "    \n",
    "    # calculate the degrees of freedom\n",
    "    # df = ((v.effect/n.effect+v.ineffect/n.ineffect)^2)/(v.effect^2/(n.effect^2 * (n.effect-1))+v.ineffect^2/(n.ineffect^2 * (n.ineffect-1)))\n",
    "    \n",
    "    # compare our t value and the threshold, decide whether we should keep it or not\n",
    "    return(abs(T))\n",
    "}"
   ]
  },
  {
   "cell_type": "code",
   "execution_count": 6,
   "metadata": {},
   "outputs": [],
   "source": [
    "outcome <- data.frame(Gene = colnames(cnv))"
   ]
  },
  {
   "cell_type": "code",
   "execution_count": 7,
   "metadata": {},
   "outputs": [
    {
     "name": "stdout",
     "output_type": "stream",
     "text": [
      "1687.065 sec elapsed\n"
     ]
    }
   ],
   "source": [
    "tic()\n",
    "codes <- c(\"1006\",\"1007\",\"1008\",\"1011\",\"1014\",\"1016\",\"1019\",\"1026\",\"1032\",\"1054\",\"1060\",\"1062\")\n",
    "resultmat = matrix(nrow=12,ncol=6)\n",
    "rownames(resultmat) = c(\"1006\",\"1007\",\"1008\",\"1011\",\"1014\",\"1016\",\"1019\",\"1026\",\"1032\",\"1054\",\"1060\",\"1062\")\n",
    "colnames(resultmat) = c(\"10\",\"50\",\"100\",\"200\",\"500\",\"1000\")\n",
    "for (code in codes){\n",
    "  gdsc_sub <- subset(gdsc, DRUG_ID_lib == code)[,c(\"CL\",\"EFFECT\")]\n",
    "  cnv_sub <- cnv[as.character(gdsc_sub$CL),]\n",
    "  cnv_sub_full <- cbind(cnv_sub, gdsc_sub['EFFECT'])\n",
    "  # outcome$T <- apply(cnv_sub,2,get.t,gdsc_sub$EFFECT)\n",
    "  n_features = c(50,100,200,500,1000)\n",
    "  train_accuracy = c()\n",
    "  test_accuracy = c()\n",
    "  for (n_feature in n_features){\n",
    "    train_error = c()\n",
    "    test_error = c()\n",
    "    for (j in 1:8){\n",
    "      set.seed(j)\n",
    "      train_id=sample(1:nrow(cnv_sub_full),0.7*nrow(cnv_sub_full))\n",
    "      train_cnv = cnv_sub_full[train_id,]\n",
    "      test_cnv = cnv_sub_full[-train_id,]\n",
    "      outcome$T <- apply(train_cnv[,-ncol(train_cnv)], 2, get.t, train_cnv$EFFECT)\n",
    "      subset_id = outcome %>% top_n(n_feature,T) %>% select(Gene)\n",
    "      subset_id = unname(t(subset_id[,1]))\n",
    "      train_cnv_reduced = cbind(train_cnv[,subset_id],train_cnv['EFFECT'])\n",
    "      test_cnv_reduced = cbind(test_cnv[,subset_id],test_cnv['EFFECT'])\n",
    "      train_cnv_reduced = as.data.frame(train_cnv_reduced)\n",
    "      test_cnv_reduced = as.data.frame(test_cnv_reduced)\n",
    "      #cn.col.name <- gsub(\"[-]\", \".\", colnames(train_cnv_reduced))\n",
    "      #colnames(train_cnv_reduced) <- cn.col.name\n",
    "      #colnames(test_cnv_reduced) <- cn.col.name\n",
    "      train_cnv_reduced$EFFECT <- as.factor(train_cnv_reduced$EFFECT)\n",
    "      test_cnv_reduced$EFFECT <- as.factor(test_cnv_reduced$EFFECT)\n",
    "      myforest = randomForest(EFFECT~.,data=train_cnv_reduced,mtry=round(sqrt(ncol(train_cnv_reduced)-1)),ntree=50)\n",
    "      #train_pred = predict(myforest,train_cnv)\n",
    "      test_pred = predict(myforest,test_cnv_reduced)\n",
    "      #train_error[j] = mean(train_pred!=train_cnv[['EFFECT']])\n",
    "      test_error[j] = mean(test_pred!=test_cnv_reduced[['EFFECT']])\n",
    "  }\n",
    "  resultmat[code,toString(n_feature)] = 1-mean(test_error)\n",
    "  }\n",
    "}\n",
    "toc()"
   ]
  },
  {
   "cell_type": "code",
   "execution_count": 10,
   "metadata": {},
   "outputs": [],
   "source": [
    "saveRDS(resultmat,'CNV_RF.rds')"
   ]
  },
  {
   "cell_type": "code",
   "execution_count": 42,
   "metadata": {},
   "outputs": [
    {
     "data": {
      "text/plain": [
       "   Min. 1st Qu.  Median    Mean 3rd Qu.    Max. \n",
       "  1.000   2.000   2.000   2.484   3.000   6.000 "
      ]
     },
     "metadata": {},
     "output_type": "display_data"
    }
   ],
   "source": [
    "summary(train_cnv_reduced$`37865`)"
   ]
  },
  {
   "cell_type": "code",
   "execution_count": 39,
   "metadata": {},
   "outputs": [
    {
     "data": {
      "text/html": [
       "<dl class=dl-horizontal>\n",
       "\t<dt>FALSE</dt>\n",
       "\t\t<dd>51</dd>\n",
       "\t<dt>TRUE</dt>\n",
       "\t\t<dd>137</dd>\n",
       "</dl>\n"
      ],
      "text/latex": [
       "\\begin{description*}\n",
       "\\item[FALSE] 51\n",
       "\\item[TRUE] 137\n",
       "\\end{description*}\n"
      ],
      "text/markdown": [
       "FALSE\n",
       ":   51TRUE\n",
       ":   137\n",
       "\n"
      ],
      "text/plain": [
       "FALSE  TRUE \n",
       "   51   137 "
      ]
     },
     "metadata": {},
     "output_type": "display_data"
    }
   ],
   "source": [
    "train_cnv_reduced$EFFECT = as.factor(train_cnv_reduced$EFFECT)\n",
    "summary(train_cnv_reduced$EFFECT)"
   ]
  },
  {
   "cell_type": "code",
   "execution_count": 20,
   "metadata": {},
   "outputs": [
    {
     "data": {
      "text/plain": [
       "   Mode   FALSE    TRUE \n",
       "logical      71     198 "
      ]
     },
     "metadata": {},
     "output_type": "display_data"
    }
   ],
   "source": [
    "summary(cnv_sub_full$EFFECT)"
   ]
  },
  {
   "cell_type": "code",
   "execution_count": 32,
   "metadata": {},
   "outputs": [
    {
     "data": {
      "text/plain": [
       "   Min. 1st Qu.  Median    Mean 3rd Qu.    Max. \n",
       "  1.000   2.000   2.000   2.548   3.000   6.000 "
      ]
     },
     "metadata": {},
     "output_type": "display_data"
    }
   ],
   "source": [
    "summary(train_cnv_reduced$`RP11-242G20.2`)"
   ]
  },
  {
   "cell_type": "code",
   "execution_count": 30,
   "metadata": {},
   "outputs": [
    {
     "data": {
      "text/html": [
       "<table>\n",
       "<thead><tr><th></th><th scope=col>C10orf35</th><th scope=col>RP11-242G20.2</th><th scope=col>AC128709.2</th><th scope=col>AREG</th><th scope=col>RP11-44F21.2</th><th scope=col>RP11-44F21.3</th></tr></thead>\n",
       "<tbody>\n",
       "\t<tr><th scope=row>906832</th><td>3</td><td>3</td><td>5</td><td>3</td><td>3</td><td>3</td></tr>\n",
       "\t<tr><th scope=row>908136</th><td>2</td><td>2</td><td>2</td><td>2</td><td>2</td><td>2</td></tr>\n",
       "\t<tr><th scope=row>910905</th><td>2</td><td>2</td><td>3</td><td>2</td><td>2</td><td>2</td></tr>\n",
       "\t<tr><th scope=row>1327775</th><td>2</td><td>2</td><td>3</td><td>2</td><td>2</td><td>2</td></tr>\n",
       "\t<tr><th scope=row>905955</th><td>2</td><td>2</td><td>3</td><td>2</td><td>2</td><td>2</td></tr>\n",
       "\t<tr><th scope=row>1327766</th><td>2</td><td>2</td><td>3</td><td>3</td><td>3</td><td>3</td></tr>\n",
       "</tbody>\n",
       "</table>\n"
      ],
      "text/latex": [
       "\\begin{tabular}{r|llllll}\n",
       "  & C10orf35 & RP11-242G20.2 & AC128709.2 & AREG & RP11-44F21.2 & RP11-44F21.3\\\\\n",
       "\\hline\n",
       "\t906832 & 3 & 3 & 5 & 3 & 3 & 3\\\\\n",
       "\t908136 & 2 & 2 & 2 & 2 & 2 & 2\\\\\n",
       "\t910905 & 2 & 2 & 3 & 2 & 2 & 2\\\\\n",
       "\t1327775 & 2 & 2 & 3 & 2 & 2 & 2\\\\\n",
       "\t905955 & 2 & 2 & 3 & 2 & 2 & 2\\\\\n",
       "\t1327766 & 2 & 2 & 3 & 3 & 3 & 3\\\\\n",
       "\\end{tabular}\n"
      ],
      "text/markdown": [
       "\n",
       "| <!--/--> | C10orf35 | RP11-242G20.2 | AC128709.2 | AREG | RP11-44F21.2 | RP11-44F21.3 | \n",
       "|---|---|---|---|---|---|\n",
       "| 906832 | 3 | 3 | 5 | 3 | 3 | 3 | \n",
       "| 908136 | 2 | 2 | 2 | 2 | 2 | 2 | \n",
       "| 910905 | 2 | 2 | 3 | 2 | 2 | 2 | \n",
       "| 1327775 | 2 | 2 | 3 | 2 | 2 | 2 | \n",
       "| 905955 | 2 | 2 | 3 | 2 | 2 | 2 | \n",
       "| 1327766 | 2 | 2 | 3 | 3 | 3 | 3 | \n",
       "\n",
       "\n"
      ],
      "text/plain": [
       "        C10orf35 RP11-242G20.2 AC128709.2 AREG RP11-44F21.2 RP11-44F21.3\n",
       "906832  3        3             5          3    3            3           \n",
       "908136  2        2             2          2    2            2           \n",
       "910905  2        2             3          2    2            2           \n",
       "1327775 2        2             3          2    2            2           \n",
       "905955  2        2             3          2    2            2           \n",
       "1327766 2        2             3          3    3            3           "
      ]
     },
     "metadata": {},
     "output_type": "display_data"
    }
   ],
   "source": [
    "train_cnv_reduced[1:6,1:6]"
   ]
  },
  {
   "cell_type": "code",
   "execution_count": 35,
   "metadata": {},
   "outputs": [
    {
     "data": {
      "text/html": [
       "<ol class=list-inline>\n",
       "\t<li>'C10orf35'</li>\n",
       "\t<li>'RP11.242G20.2'</li>\n",
       "\t<li>'AC128709.2'</li>\n",
       "\t<li>'AREG'</li>\n",
       "\t<li>'RP11.44F21.2'</li>\n",
       "\t<li>'RP11.44F21.3'</li>\n",
       "</ol>\n"
      ],
      "text/latex": [
       "\\begin{enumerate*}\n",
       "\\item 'C10orf35'\n",
       "\\item 'RP11.242G20.2'\n",
       "\\item 'AC128709.2'\n",
       "\\item 'AREG'\n",
       "\\item 'RP11.44F21.2'\n",
       "\\item 'RP11.44F21.3'\n",
       "\\end{enumerate*}\n"
      ],
      "text/markdown": [
       "1. 'C10orf35'\n",
       "2. 'RP11.242G20.2'\n",
       "3. 'AC128709.2'\n",
       "4. 'AREG'\n",
       "5. 'RP11.44F21.2'\n",
       "6. 'RP11.44F21.3'\n",
       "\n",
       "\n"
      ],
      "text/plain": [
       "[1] \"C10orf35\"      \"RP11.242G20.2\" \"AC128709.2\"    \"AREG\"         \n",
       "[5] \"RP11.44F21.2\"  \"RP11.44F21.3\" "
      ]
     },
     "metadata": {},
     "output_type": "display_data"
    }
   ],
   "source": [
    "cn.col.name <- gsub(\"[-]\", \".\", colnames(train_cnv_reduced))\n",
    "head(cn.col.name)"
   ]
  },
  {
   "cell_type": "code",
   "execution_count": 36,
   "metadata": {},
   "outputs": [
    {
     "data": {
      "text/html": [
       "<table>\n",
       "<thead><tr><th></th><th scope=col>C10orf35</th><th scope=col>RP11.242G20.2</th><th scope=col>AC128709.2</th><th scope=col>AREG</th><th scope=col>RP11.44F21.2</th></tr></thead>\n",
       "<tbody>\n",
       "\t<tr><th scope=row>906832</th><td>3</td><td>3</td><td>5</td><td>3</td><td>3</td></tr>\n",
       "\t<tr><th scope=row>908136</th><td>2</td><td>2</td><td>2</td><td>2</td><td>2</td></tr>\n",
       "\t<tr><th scope=row>910905</th><td>2</td><td>2</td><td>3</td><td>2</td><td>2</td></tr>\n",
       "\t<tr><th scope=row>1327775</th><td>2</td><td>2</td><td>3</td><td>2</td><td>2</td></tr>\n",
       "\t<tr><th scope=row>905955</th><td>2</td><td>2</td><td>3</td><td>2</td><td>2</td></tr>\n",
       "</tbody>\n",
       "</table>\n"
      ],
      "text/latex": [
       "\\begin{tabular}{r|lllll}\n",
       "  & C10orf35 & RP11.242G20.2 & AC128709.2 & AREG & RP11.44F21.2\\\\\n",
       "\\hline\n",
       "\t906832 & 3 & 3 & 5 & 3 & 3\\\\\n",
       "\t908136 & 2 & 2 & 2 & 2 & 2\\\\\n",
       "\t910905 & 2 & 2 & 3 & 2 & 2\\\\\n",
       "\t1327775 & 2 & 2 & 3 & 2 & 2\\\\\n",
       "\t905955 & 2 & 2 & 3 & 2 & 2\\\\\n",
       "\\end{tabular}\n"
      ],
      "text/markdown": [
       "\n",
       "| <!--/--> | C10orf35 | RP11.242G20.2 | AC128709.2 | AREG | RP11.44F21.2 | \n",
       "|---|---|---|---|---|\n",
       "| 906832 | 3 | 3 | 5 | 3 | 3 | \n",
       "| 908136 | 2 | 2 | 2 | 2 | 2 | \n",
       "| 910905 | 2 | 2 | 3 | 2 | 2 | \n",
       "| 1327775 | 2 | 2 | 3 | 2 | 2 | \n",
       "| 905955 | 2 | 2 | 3 | 2 | 2 | \n",
       "\n",
       "\n"
      ],
      "text/plain": [
       "        C10orf35 RP11.242G20.2 AC128709.2 AREG RP11.44F21.2\n",
       "906832  3        3             5          3    3           \n",
       "908136  2        2             2          2    2           \n",
       "910905  2        2             3          2    2           \n",
       "1327775 2        2             3          2    2           \n",
       "905955  2        2             3          2    2           "
      ]
     },
     "metadata": {},
     "output_type": "display_data"
    }
   ],
   "source": [
    "colnames(train_cnv_reduced) <- cn.col.name\n",
    "train_cnv_reduced[1:5,1:5]"
   ]
  },
  {
   "cell_type": "code",
   "execution_count": 29,
   "metadata": {},
   "outputs": [
    {
     "ename": "ERROR",
     "evalue": "Error in eval(predvars, data, env): object 'RP11-242G20.2' not found\n",
     "output_type": "error",
     "traceback": [
      "Error in eval(predvars, data, env): object 'RP11-242G20.2' not found\nTraceback:\n",
      "1. randomForest(EFFECT ~ ., data = train_cnv_reduced, mtry = round(sqrt(ncol(train_cnv_reduced) - \n .     1)), ntree = 50)",
      "2. randomForest.formula(EFFECT ~ ., data = train_cnv_reduced, mtry = round(sqrt(ncol(train_cnv_reduced) - \n .     1)), ntree = 50)",
      "3. model.frame(terms(reformulate(attributes(Terms)$term.labels)), \n .     data.frame(m))",
      "4. model.frame.default(terms(reformulate(attributes(Terms)$term.labels)), \n .     data.frame(m))",
      "5. eval(predvars, data, env)",
      "6. eval(predvars, data, env)"
     ]
    }
   ],
   "source": [
    "myforest = randomForest(EFFECT~.,data=train_cnv_reduced,mtry=round(sqrt(ncol(train_cnv_reduced)-1)),ntree=50)"
   ]
  },
  {
   "cell_type": "code",
   "execution_count": null,
   "metadata": {
    "collapsed": true
   },
   "outputs": [],
   "source": [
    "outcome = tbl_df(outcome)\n",
    "    subset_id = outcome %>% top_n(n_feature,T) %>% select(Gene)\n",
    "    subset_id = unname(t(subset_id[,1]))\n",
    "    cnv_sub_reduced = cnv_sub[,subset_id]\n",
    "    cnv_final = cbind(cnv_sub_reduced,gdsc_sub$EFFECT)\n",
    "    cnv_final = as.data.frame(cnv_final)\n",
    "    colnames(cnv_final)[ncol(cnv_final)]='EFFECT'\n",
    "    cnv_final$EFFECT = as.factor(cnv_final$EFFECT)\n",
    "    effective_cnv = cnv_final %>% filter(EFFECT==TRUE)\n",
    "    ineffective_cnv = cnv_final %>%  filter(EFFECT==FALSE)"
   ]
  }
 ],
 "metadata": {
  "kernelspec": {
   "display_name": "R",
   "language": "R",
   "name": "ir"
  },
  "language_info": {
   "codemirror_mode": "r",
   "file_extension": ".r",
   "mimetype": "text/x-r-source",
   "name": "R",
   "pygments_lexer": "r",
   "version": "3.4.4"
  }
 },
 "nbformat": 4,
 "nbformat_minor": 2
}
