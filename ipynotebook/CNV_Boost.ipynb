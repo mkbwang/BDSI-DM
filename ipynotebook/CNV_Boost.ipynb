{
 "cells": [
  {
   "cell_type": "markdown",
   "metadata": {},
   "source": [
    "# CNV Boosting"
   ]
  },
  {
   "cell_type": "code",
   "execution_count": 1,
   "metadata": {},
   "outputs": [
    {
     "name": "stderr",
     "output_type": "stream",
     "text": [
      "Loading required package: rpart\n",
      "\n",
      "Attaching package: ‘dplyr’\n",
      "\n",
      "The following objects are masked from ‘package:stats’:\n",
      "\n",
      "    filter, lag\n",
      "\n",
      "The following objects are masked from ‘package:base’:\n",
      "\n",
      "    intersect, setdiff, setequal, union\n",
      "\n"
     ]
    }
   ],
   "source": [
    "library(ada)\n",
    "library(dplyr)"
   ]
  },
  {
   "cell_type": "code",
   "execution_count": 2,
   "metadata": {
    "collapsed": true
   },
   "outputs": [],
   "source": [
    "library(tictoc)"
   ]
  },
  {
   "cell_type": "code",
   "execution_count": 3,
   "metadata": {
    "collapsed": true
   },
   "outputs": [],
   "source": [
    "gdsc = readRDS('data/gdsc_screened.rds')\n",
    "cnv = readRDS('data/cnNEW.rds')"
   ]
  },
  {
   "cell_type": "code",
   "execution_count": 4,
   "metadata": {
    "collapsed": true
   },
   "outputs": [],
   "source": [
    "names(cnv) <- make.names(names(cnv))"
   ]
  },
  {
   "cell_type": "code",
   "execution_count": 5,
   "metadata": {
    "collapsed": true
   },
   "outputs": [],
   "source": [
    "get.t <- function(dat, labs){\n",
    "    # split the data into effective and ineffective\n",
    "    effect <- dat[labs]\n",
    "    ineffect <- dat[!labs]\n",
    "    \n",
    "    # calculate the two sample means\n",
    "    effect.bar <- mean(effect)\n",
    "    ineffect.bar <- mean(ineffect)\n",
    "    \n",
    "    # calculate the two sample variances\n",
    "    v.effect <- var(effect)\n",
    "    v.ineffect <- var(ineffect)\n",
    "    \n",
    "    # calculate the sample sizes\n",
    "    n.effect <- length(effect)\n",
    "    n.ineffect <- length(ineffect)\n",
    "    \n",
    "    # calculate the sd\n",
    "    s <- sqrt((v.effect/n.effect) + (v.ineffect/n.ineffect))\n",
    "    \n",
    "    # calculate the test statistic\n",
    "    T <- (effect.bar - ineffect.bar)/s\n",
    "    \n",
    "    # calculate the degrees of freedom\n",
    "    # df = ((v.effect/n.effect+v.ineffect/n.ineffect)^2)/(v.effect^2/(n.effect^2 * (n.effect-1))+v.ineffect^2/(n.ineffect^2 * (n.ineffect-1)))\n",
    "    \n",
    "    # compare our t value and the threshold, decide whether we should keep it or not\n",
    "    return(abs(T))\n",
    "}"
   ]
  },
  {
   "cell_type": "code",
   "execution_count": 6,
   "metadata": {
    "collapsed": true
   },
   "outputs": [],
   "source": [
    "outcome <- data.frame(Gene = colnames(cnv))"
   ]
  },
  {
   "cell_type": "code",
   "execution_count": null,
   "metadata": {},
   "outputs": [],
   "source": [
    "tic()\n",
    "codes <- c(\"1006\",\"1007\",\"1008\",\"1011\",\"1014\",\"1016\",\"1019\",\"1026\",\"1032\",\"1054\",\"1060\",\"1062\")\n",
    "resultmat = matrix(nrow=12,ncol=5)\n",
    "rownames(resultmat) = c(\"1006\",\"1007\",\"1008\",\"1011\",\"1014\",\"1016\",\"1019\",\"1026\",\"1032\",\"1054\",\"1060\",\"1062\")\n",
    "colnames(resultmat) = c(\"50\",\"100\",\"200\",\"500\",\"1000\")\n",
    "for (code in codes){\n",
    "  print(code)\n",
    "  gdsc_sub <- subset(gdsc, DRUG_ID_lib == code)[,c(\"CL\",\"EFFECT\")]\n",
    "  cnv_sub <- cnv[as.character(gdsc_sub$CL),]\n",
    "  cnv_sub_full <- cbind(cnv_sub, gdsc_sub['EFFECT'])\n",
    "  # outcome$T <- apply(cnv_sub,2,get.t,gdsc_sub$EFFECT)\n",
    "  n_features = c(50,100,200,500,1000)\n",
    "  train_accuracy = c()\n",
    "  test_accuracy = c()\n",
    "  for (n_feature in n_features){\n",
    "    print(n_feature)\n",
    "    train_error = c()\n",
    "    test_error = c()\n",
    "    for (j in 1:5){  \n",
    "      set.seed(j)\n",
    "      train_id=sample(1:nrow(cnv_sub_full),0.7*nrow(cnv_sub_full))\n",
    "      train_cnv = cnv_sub_full[train_id,]\n",
    "      test_cnv = cnv_sub_full[-train_id,]\n",
    "      outcome$T <- apply(train_cnv[,-ncol(train_cnv)], 2, get.t, train_cnv$EFFECT)\n",
    "      subset_id = outcome %>% top_n(n_feature,T) %>% select(Gene)\n",
    "      subset_id = unname(t(subset_id[,1]))\n",
    "      train_cnv_reduced = cbind(train_cnv[,subset_id],train_cnv['EFFECT'])\n",
    "      test_cnv_reduced = cbind(test_cnv[,subset_id],test_cnv['EFFECT'])\n",
    "      # train_cnv_reduced = as.data.frame(train_cnv_reduced)\n",
    "      # test_cnv_reduced = as.data.frame(test_cnv_reduced)\n",
    "      #cn.col.name <- gsub(\"[-]\", \".\", colnames(train_cnv_reduced))\n",
    "      #colnames(train_cnv_reduced) <- cn.col.name\n",
    "      #colnames(test_cnv_reduced) <- cn.col.name\n",
    "      train_cnv_reduced$EFFECT <- as.factor(train_cnv_reduced$EFFECT)\n",
    "      test_cnv_reduced$EFFECT <- as.factor(test_cnv_reduced$EFFECT)\n",
    "      myboost = ada(EFFECT~.,data=train_cnv_reduced,iter=5)\n",
    "      #train_pred = predict(myforest,train_cnv)\n",
    "      test_pred = predict(myboost,test_cnv_reduced)\n",
    "      #train_error[j] = mean(train_pred!=train_cnv[['EFFECT']])\n",
    "      test_error[j] = mean(test_pred!=test_cnv_reduced[['EFFECT']])\n",
    "  }\n",
    "  resultmat[code,toString(n_feature)] = 1-mean(test_error)\n",
    "  }\n",
    "}\n",
    "toc()"
   ]
  },
  {
   "cell_type": "code",
   "execution_count": null,
   "metadata": {
    "collapsed": true
   },
   "outputs": [],
   "source": []
  }
 ],
 "metadata": {
  "kernelspec": {
   "display_name": "R",
   "language": "R",
   "name": "ir"
  },
  "language_info": {
   "codemirror_mode": "r",
   "file_extension": ".r",
   "mimetype": "text/x-r-source",
   "name": "R",
   "pygments_lexer": "r",
   "version": "3.4.4"
  }
 },
 "nbformat": 4,
 "nbformat_minor": 2
}
