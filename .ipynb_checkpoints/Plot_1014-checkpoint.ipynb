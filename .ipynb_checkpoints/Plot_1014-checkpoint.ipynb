{
 "cells": [
  {
   "cell_type": "markdown",
   "metadata": {},
   "source": [
    "# Plotting"
   ]
  },
  {
   "cell_type": "code",
   "execution_count": 1,
   "metadata": {},
   "outputs": [
    {
     "name": "stderr",
     "output_type": "stream",
     "text": [
      "\n",
      "Attaching package: ‘dplyr’\n",
      "\n",
      "The following objects are masked from ‘package:stats’:\n",
      "\n",
      "    filter, lag\n",
      "\n",
      "The following objects are masked from ‘package:base’:\n",
      "\n",
      "    intersect, setdiff, setequal, union\n",
      "\n"
     ]
    }
   ],
   "source": [
    "library(devtools)\n",
    "library(dplyr)\n",
    "library(ggplot2)\n",
    "library(repr)\n",
    "library(gdscIC50)\n",
    "library(gdscdata)\n",
    "data(\"gdsc_nlme_stats\")"
   ]
  },
  {
   "cell_type": "code",
   "execution_count": 2,
   "metadata": {},
   "outputs": [],
   "source": [
    "library(readr)\n",
    "library(ggplot2)"
   ]
  },
  {
   "cell_type": "code",
   "execution_count": 2,
   "metadata": {},
   "outputs": [],
   "source": [
    "gdsc_useful <- readRDS('gdsc_useful.rds')"
   ]
  },
  {
   "cell_type": "code",
   "execution_count": 3,
   "metadata": {},
   "outputs": [
    {
     "data": {
      "text/html": [
       "<table>\n",
       "<thead><tr><th scope=col>CL</th><th scope=col>CELL_LINE_NAME</th><th scope=col>maxc</th><th scope=col>DRUG_ID_lib</th><th scope=col>drug</th><th scope=col>IC50</th><th scope=col>rel_IC50</th><th scope=col>EFFECT</th></tr></thead>\n",
       "<tbody>\n",
       "\t<tr><td>683665    </td><td>MC-CAR    </td><td>2e+03     </td><td>1001      </td><td>1001_2000 </td><td> 5.248496 </td><td>0.09513990</td><td> TRUE     </td></tr>\n",
       "\t<tr><td>683665    </td><td>MC-CAR    </td><td>1e-01     </td><td>1003      </td><td>1003_0.1  </td><td>-4.526487 </td><td>0.10818620</td><td> TRUE     </td></tr>\n",
       "\t<tr><td>683665    </td><td>MC-CAR    </td><td>1e-01     </td><td>1004      </td><td>1004_0.1  </td><td>-5.123115 </td><td>0.05957439</td><td> TRUE     </td></tr>\n",
       "\t<tr><td>683665    </td><td>MC-CAR    </td><td>2e+00     </td><td>1006      </td><td>1006_2    </td><td>-2.955254 </td><td>0.02603271</td><td> TRUE     </td></tr>\n",
       "\t<tr><td>683665    </td><td>MC-CAR    </td><td>5e-01     </td><td>1010      </td><td>1010_0.5  </td><td> 1.575241 </td><td>9.66381402</td><td>FALSE     </td></tr>\n",
       "\t<tr><td>683665    </td><td>MC-CAR    </td><td>2e+00     </td><td>1011      </td><td>1011_2    </td><td>-3.773649 </td><td>0.01148405</td><td> TRUE     </td></tr>\n",
       "</tbody>\n",
       "</table>\n"
      ],
      "text/latex": [
       "\\begin{tabular}{r|llllllll}\n",
       " CL & CELL\\_LINE\\_NAME & maxc & DRUG\\_ID\\_lib & drug & IC50 & rel\\_IC50 & EFFECT\\\\\n",
       "\\hline\n",
       "\t 683665      & MC-CAR      & 2e+03       & 1001        & 1001\\_2000 &  5.248496   & 0.09513990  &  TRUE      \\\\\n",
       "\t 683665      & MC-CAR      & 1e-01       & 1003        & 1003\\_0.1  & -4.526487   & 0.10818620  &  TRUE      \\\\\n",
       "\t 683665      & MC-CAR      & 1e-01       & 1004        & 1004\\_0.1  & -5.123115   & 0.05957439  &  TRUE      \\\\\n",
       "\t 683665      & MC-CAR      & 2e+00       & 1006        & 1006\\_2    & -2.955254   & 0.02603271  &  TRUE      \\\\\n",
       "\t 683665      & MC-CAR      & 5e-01       & 1010        & 1010\\_0.5  &  1.575241   & 9.66381402  & FALSE      \\\\\n",
       "\t 683665      & MC-CAR      & 2e+00       & 1011        & 1011\\_2    & -3.773649   & 0.01148405  &  TRUE      \\\\\n",
       "\\end{tabular}\n"
      ],
      "text/markdown": [
       "\n",
       "CL | CELL_LINE_NAME | maxc | DRUG_ID_lib | drug | IC50 | rel_IC50 | EFFECT | \n",
       "|---|---|---|---|---|---|\n",
       "| 683665     | MC-CAR     | 2e+03      | 1001       | 1001_2000  |  5.248496  | 0.09513990 |  TRUE      | \n",
       "| 683665     | MC-CAR     | 1e-01      | 1003       | 1003_0.1   | -4.526487  | 0.10818620 |  TRUE      | \n",
       "| 683665     | MC-CAR     | 1e-01      | 1004       | 1004_0.1   | -5.123115  | 0.05957439 |  TRUE      | \n",
       "| 683665     | MC-CAR     | 2e+00      | 1006       | 1006_2     | -2.955254  | 0.02603271 |  TRUE      | \n",
       "| 683665     | MC-CAR     | 5e-01      | 1010       | 1010_0.5   |  1.575241  | 9.66381402 | FALSE      | \n",
       "| 683665     | MC-CAR     | 2e+00      | 1011       | 1011_2     | -3.773649  | 0.01148405 |  TRUE      | \n",
       "\n",
       "\n"
      ],
      "text/plain": [
       "  CL     CELL_LINE_NAME maxc  DRUG_ID_lib drug      IC50      rel_IC50   EFFECT\n",
       "1 683665 MC-CAR         2e+03 1001        1001_2000  5.248496 0.09513990  TRUE \n",
       "2 683665 MC-CAR         1e-01 1003        1003_0.1  -4.526487 0.10818620  TRUE \n",
       "3 683665 MC-CAR         1e-01 1004        1004_0.1  -5.123115 0.05957439  TRUE \n",
       "4 683665 MC-CAR         2e+00 1006        1006_2    -2.955254 0.02603271  TRUE \n",
       "5 683665 MC-CAR         5e-01 1010        1010_0.5   1.575241 9.66381402 FALSE \n",
       "6 683665 MC-CAR         2e+00 1011        1011_2    -3.773649 0.01148405  TRUE "
      ]
     },
     "metadata": {},
     "output_type": "display_data"
    }
   ],
   "source": [
    "head(gdsc_useful)"
   ]
  },
  {
   "cell_type": "code",
   "execution_count": 4,
   "metadata": {},
   "outputs": [],
   "source": [
    "gdsc_1014 <- gdsc_useful %>% filter(DRUG_ID_lib==1014)"
   ]
  },
  {
   "cell_type": "code",
   "execution_count": 5,
   "metadata": {},
   "outputs": [],
   "source": [
    "gdsc_1014_effective <- gdsc_1014 %>% filter(EFFECT==TRUE)"
   ]
  },
  {
   "cell_type": "code",
   "execution_count": 6,
   "metadata": {},
   "outputs": [],
   "source": [
    "gdsc_1014_ineffective <- gdsc_1014 %>% filter(EFFECT==FALSE)"
   ]
  },
  {
   "cell_type": "code",
   "execution_count": 7,
   "metadata": {},
   "outputs": [
    {
     "data": {
      "text/html": [
       "<table>\n",
       "<thead><tr><th scope=col>CL</th><th scope=col>CELL_LINE_NAME</th><th scope=col>maxc</th><th scope=col>DRUG_ID_lib</th><th scope=col>drug</th><th scope=col>IC50</th><th scope=col>rel_IC50</th><th scope=col>EFFECT</th></tr></thead>\n",
       "<tbody>\n",
       "\t<tr><td>687457    </td><td>SW780     </td><td>5         </td><td>1014      </td><td>1014_5    </td><td>-0.1946045</td><td>0.16463203</td><td>TRUE      </td></tr>\n",
       "\t<tr><td>687592    </td><td>YKG-1     </td><td>5         </td><td>1014      </td><td>1014_5    </td><td>-0.1393582</td><td>0.17398327</td><td>TRUE      </td></tr>\n",
       "\t<tr><td>687794    </td><td>NCI-H1437 </td><td>5         </td><td>1014      </td><td>1014_5    </td><td>-0.8212535</td><td>0.08797598</td><td>TRUE      </td></tr>\n",
       "\t<tr><td>687820    </td><td>NCI-H2347 </td><td>5         </td><td>1014      </td><td>1014_5    </td><td>-0.5674435</td><td>0.11339461</td><td>TRUE      </td></tr>\n",
       "\t<tr><td>724825    </td><td>NCI-H929  </td><td>5         </td><td>1014      </td><td>1014_5    </td><td>-0.2340407</td><td>0.15826591</td><td>TRUE      </td></tr>\n",
       "\t<tr><td>724828    </td><td>SK-N-AS   </td><td>5         </td><td>1014      </td><td>1014_5    </td><td>-0.4204003</td><td>0.13135677</td><td>TRUE      </td></tr>\n",
       "</tbody>\n",
       "</table>\n"
      ],
      "text/latex": [
       "\\begin{tabular}{r|llllllll}\n",
       " CL & CELL\\_LINE\\_NAME & maxc & DRUG\\_ID\\_lib & drug & IC50 & rel\\_IC50 & EFFECT\\\\\n",
       "\\hline\n",
       "\t 687457     & SW780      & 5          & 1014       & 1014\\_5   & -0.1946045 & 0.16463203 & TRUE      \\\\\n",
       "\t 687592     & YKG-1      & 5          & 1014       & 1014\\_5   & -0.1393582 & 0.17398327 & TRUE      \\\\\n",
       "\t 687794     & NCI-H1437  & 5          & 1014       & 1014\\_5   & -0.8212535 & 0.08797598 & TRUE      \\\\\n",
       "\t 687820     & NCI-H2347  & 5          & 1014       & 1014\\_5   & -0.5674435 & 0.11339461 & TRUE      \\\\\n",
       "\t 724825     & NCI-H929   & 5          & 1014       & 1014\\_5   & -0.2340407 & 0.15826591 & TRUE      \\\\\n",
       "\t 724828     & SK-N-AS    & 5          & 1014       & 1014\\_5   & -0.4204003 & 0.13135677 & TRUE      \\\\\n",
       "\\end{tabular}\n"
      ],
      "text/markdown": [
       "\n",
       "CL | CELL_LINE_NAME | maxc | DRUG_ID_lib | drug | IC50 | rel_IC50 | EFFECT | \n",
       "|---|---|---|---|---|---|\n",
       "| 687457     | SW780      | 5          | 1014       | 1014_5     | -0.1946045 | 0.16463203 | TRUE       | \n",
       "| 687592     | YKG-1      | 5          | 1014       | 1014_5     | -0.1393582 | 0.17398327 | TRUE       | \n",
       "| 687794     | NCI-H1437  | 5          | 1014       | 1014_5     | -0.8212535 | 0.08797598 | TRUE       | \n",
       "| 687820     | NCI-H2347  | 5          | 1014       | 1014_5     | -0.5674435 | 0.11339461 | TRUE       | \n",
       "| 724825     | NCI-H929   | 5          | 1014       | 1014_5     | -0.2340407 | 0.15826591 | TRUE       | \n",
       "| 724828     | SK-N-AS    | 5          | 1014       | 1014_5     | -0.4204003 | 0.13135677 | TRUE       | \n",
       "\n",
       "\n"
      ],
      "text/plain": [
       "  CL     CELL_LINE_NAME maxc DRUG_ID_lib drug   IC50       rel_IC50   EFFECT\n",
       "1 687457 SW780          5    1014        1014_5 -0.1946045 0.16463203 TRUE  \n",
       "2 687592 YKG-1          5    1014        1014_5 -0.1393582 0.17398327 TRUE  \n",
       "3 687794 NCI-H1437      5    1014        1014_5 -0.8212535 0.08797598 TRUE  \n",
       "4 687820 NCI-H2347      5    1014        1014_5 -0.5674435 0.11339461 TRUE  \n",
       "5 724825 NCI-H929       5    1014        1014_5 -0.2340407 0.15826591 TRUE  \n",
       "6 724828 SK-N-AS        5    1014        1014_5 -0.4204003 0.13135677 TRUE  "
      ]
     },
     "metadata": {},
     "output_type": "display_data"
    }
   ],
   "source": [
    "head(gdsc_1014_effective)"
   ]
  },
  {
   "cell_type": "code",
   "execution_count": null,
   "metadata": {},
   "outputs": [],
   "source": [
    "options(repr.plot.width=7,repr.plot.height=5)\n",
    "plotResponse(model_stats=gdsc_nlme_stats,cell_line='687457',drug_identifier='1014_5')"
   ]
  },
  {
   "cell_type": "markdown",
   "metadata": {},
   "source": [
    "Plan to plot stuffs, not successful yet."
   ]
  },
  {
   "cell_type": "code",
   "execution_count": 21,
   "metadata": {},
   "outputs": [],
   "source": [
    "for (i in 1:nrow(gdsc_1014_effective)){\n",
    "    CL = gdsc_1014_effective[i,'CL'][[1]]\n",
    "    drug = gdsc_1014_effective[i,'drug'][[1]]\n",
    "    fname = paste(c(CL,drug),collapse='_')\n",
    "    fname = paste(c(fname,'.pdf'),collapse='')\n",
    "    fname = paste(c('Effective_1014',fname),collapse='/')\n",
    "    pdf(fname,width=7,height=5,paper='special')\n",
    "    plotResponse(model_stats=gdsc_nlme_stats,cell_line=toString(CL),drug_identifier=drug)\n",
    "    dev.off()\n",
    "}"
   ]
  },
  {
   "cell_type": "code",
   "execution_count": 31,
   "metadata": {},
   "outputs": [
    {
     "name": "stderr",
     "output_type": "stream",
     "text": [
      "Warning message:\n",
      "“Duplicated column names deduplicated: '1503362' => '1503362_1' [845], '1330983' => '1330983_1' [906], '909976' => '909976_1' [1008], '905954' => '905954_1' [1019]”Parsed with column specification:\n",
      "cols(\n",
      "  .default = col_double(),\n",
      "  ensembl_gene = col_character()\n",
      ")\n",
      "See spec(...) for full column specifications.\n"
     ]
    },
    {
     "data": {
      "text/html": [
       "<ol class=list-inline>\n",
       "\t<li>17737</li>\n",
       "\t<li>1019</li>\n",
       "</ol>\n"
      ],
      "text/latex": [
       "\\begin{enumerate*}\n",
       "\\item 17737\n",
       "\\item 1019\n",
       "\\end{enumerate*}\n"
      ],
      "text/markdown": [
       "1. 17737\n",
       "2. 1019\n",
       "\n",
       "\n"
      ],
      "text/plain": [
       "[1] 17737  1019"
      ]
     },
     "metadata": {},
     "output_type": "display_data"
    }
   ],
   "source": [
    "gene_exp <- read_tsv('sanger1018_brainarray_ensemblgene_rma.txt')\n",
    "dim(gene_exp)"
   ]
  },
  {
   "cell_type": "markdown",
   "metadata": {},
   "source": [
    "Columns are the cell lines."
   ]
  },
  {
   "cell_type": "code",
   "execution_count": 27,
   "metadata": {},
   "outputs": [
    {
     "data": {
      "text/html": [
       "<table>\n",
       "<thead><tr><th scope=col>906826</th><th scope=col>687983</th><th scope=col>910927</th><th scope=col>1240138</th><th scope=col>1240139</th><th scope=col>906792</th></tr></thead>\n",
       "<tbody>\n",
       "\t<tr><td> 7.632023</td><td> 7.548671</td><td>8.712338 </td><td>7.797142 </td><td> 7.729268</td><td>7.074533 </td></tr>\n",
       "\t<tr><td> 2.964585</td><td> 2.777716</td><td>2.643508 </td><td>2.817923 </td><td> 2.957739</td><td>2.889677 </td></tr>\n",
       "\t<tr><td>10.379553</td><td>11.807341</td><td>9.880733 </td><td>9.883471 </td><td>10.418840</td><td>9.773987 </td></tr>\n",
       "\t<tr><td> 3.614794</td><td> 4.066887</td><td>3.956230 </td><td>4.063701 </td><td> 4.341500</td><td>4.270903 </td></tr>\n",
       "\t<tr><td> 3.380681</td><td> 3.732485</td><td>3.236620 </td><td>3.558414 </td><td> 3.840373</td><td>3.815055 </td></tr>\n",
       "\t<tr><td> 3.324692</td><td> 3.152404</td><td>3.241246 </td><td>3.101247 </td><td> 3.001802</td><td>3.298915 </td></tr>\n",
       "</tbody>\n",
       "</table>\n"
      ],
      "text/latex": [
       "\\begin{tabular}{r|llllll}\n",
       " 906826 & 687983 & 910927 & 1240138 & 1240139 & 906792\\\\\n",
       "\\hline\n",
       "\t  7.632023 &  7.548671 & 8.712338  & 7.797142  &  7.729268 & 7.074533 \\\\\n",
       "\t  2.964585 &  2.777716 & 2.643508  & 2.817923  &  2.957739 & 2.889677 \\\\\n",
       "\t 10.379553 & 11.807341 & 9.880733  & 9.883471  & 10.418840 & 9.773987 \\\\\n",
       "\t  3.614794 &  4.066887 & 3.956230  & 4.063701  &  4.341500 & 4.270903 \\\\\n",
       "\t  3.380681 &  3.732485 & 3.236620  & 3.558414  &  3.840373 & 3.815055 \\\\\n",
       "\t  3.324692 &  3.152404 & 3.241246  & 3.101247  &  3.001802 & 3.298915 \\\\\n",
       "\\end{tabular}\n"
      ],
      "text/markdown": [
       "\n",
       "906826 | 687983 | 910927 | 1240138 | 1240139 | 906792 | \n",
       "|---|---|---|---|---|---|\n",
       "|  7.632023 |  7.548671 | 8.712338  | 7.797142  |  7.729268 | 7.074533  | \n",
       "|  2.964585 |  2.777716 | 2.643508  | 2.817923  |  2.957739 | 2.889677  | \n",
       "| 10.379553 | 11.807341 | 9.880733  | 9.883471  | 10.418840 | 9.773987  | \n",
       "|  3.614794 |  4.066887 | 3.956230  | 4.063701  |  4.341500 | 4.270903  | \n",
       "|  3.380681 |  3.732485 | 3.236620  | 3.558414  |  3.840373 | 3.815055  | \n",
       "|  3.324692 |  3.152404 | 3.241246  | 3.101247  |  3.001802 | 3.298915  | \n",
       "\n",
       "\n"
      ],
      "text/plain": [
       "  906826    687983    910927   1240138  1240139   906792  \n",
       "1  7.632023  7.548671 8.712338 7.797142  7.729268 7.074533\n",
       "2  2.964585  2.777716 2.643508 2.817923  2.957739 2.889677\n",
       "3 10.379553 11.807341 9.880733 9.883471 10.418840 9.773987\n",
       "4  3.614794  4.066887 3.956230 4.063701  4.341500 4.270903\n",
       "5  3.380681  3.732485 3.236620 3.558414  3.840373 3.815055\n",
       "6  3.324692  3.152404 3.241246 3.101247  3.001802 3.298915"
      ]
     },
     "metadata": {},
     "output_type": "display_data"
    }
   ],
   "source": [
    "gene_exp[1:6,1:6]"
   ]
  },
  {
   "cell_type": "code",
   "execution_count": 32,
   "metadata": {},
   "outputs": [],
   "source": [
    "genes <- gene_exp$ensembl_gene\n",
    "gene_exp <- gene_exp[,-1]l"
   ]
  },
  {
   "cell_type": "code",
   "execution_count": 33,
   "metadata": {},
   "outputs": [],
   "source": [
    "use.cols <- intersect(unique(gdsc_useful$CL),colnames(gene_exp))"
   ]
  },
  {
   "cell_type": "code",
   "execution_count": 29,
   "metadata": {},
   "outputs": [
    {
     "data": {
      "text/html": [
       "954"
      ],
      "text/latex": [
       "954"
      ],
      "text/markdown": [
       "954"
      ],
      "text/plain": [
       "[1] 954"
      ]
     },
     "metadata": {},
     "output_type": "display_data"
    }
   ],
   "source": [
    "length(use.cols)"
   ]
  },
  {
   "cell_type": "code",
   "execution_count": 34,
   "metadata": {},
   "outputs": [],
   "source": [
    "gene_exp <- gene_exp[,use.cols]\n",
    "gene_exp <- as.data.frame(t(gene_exp))"
   ]
  },
  {
   "cell_type": "code",
   "execution_count": 35,
   "metadata": {},
   "outputs": [],
   "source": [
    "colnames(gene_exp) <- genes"
   ]
  },
  {
   "cell_type": "code",
   "execution_count": 37,
   "metadata": {},
   "outputs": [
    {
     "data": {
      "text/html": [
       "<ol class=list-inline>\n",
       "\t<li>954</li>\n",
       "\t<li>17737</li>\n",
       "</ol>\n"
      ],
      "text/latex": [
       "\\begin{enumerate*}\n",
       "\\item 954\n",
       "\\item 17737\n",
       "\\end{enumerate*}\n"
      ],
      "text/markdown": [
       "1. 954\n",
       "2. 17737\n",
       "\n",
       "\n"
      ],
      "text/plain": [
       "[1]   954 17737"
      ]
     },
     "metadata": {},
     "output_type": "display_data"
    },
    {
     "data": {
      "text/html": [
       "<table>\n",
       "<thead><tr><th></th><th scope=col>ENSG00000000003</th><th scope=col>ENSG00000000005</th><th scope=col>ENSG00000000419</th><th scope=col>ENSG00000000457</th><th scope=col>ENSG00000000460</th><th scope=col>ENSG00000000938</th></tr></thead>\n",
       "<tbody>\n",
       "\t<tr><th scope=row>683665</th><td>3.238273 </td><td>2.982254 </td><td>10.235491</td><td>4.856061 </td><td>4.078870 </td><td>9.116236 </td></tr>\n",
       "\t<tr><th scope=row>683667</th><td>7.780713 </td><td>2.753253 </td><td> 9.960137</td><td>4.351073 </td><td>3.716740 </td><td>3.222277 </td></tr>\n",
       "\t<tr><th scope=row>684052</th><td>7.301344 </td><td>2.890533 </td><td> 9.922489</td><td>4.125088 </td><td>3.678987 </td><td>3.096576 </td></tr>\n",
       "\t<tr><th scope=row>684055</th><td>8.690198 </td><td>3.091473 </td><td> 9.992487</td><td>4.572198 </td><td>3.333385 </td><td>3.320793 </td></tr>\n",
       "\t<tr><th scope=row>684057</th><td>8.233101 </td><td>2.824687 </td><td>10.015884</td><td>4.749715 </td><td>3.839433 </td><td>3.142754 </td></tr>\n",
       "\t<tr><th scope=row>684059</th><td>8.333466 </td><td>3.966757 </td><td> 9.793991</td><td>3.976923 </td><td>3.505669 </td><td>3.079943 </td></tr>\n",
       "</tbody>\n",
       "</table>\n"
      ],
      "text/latex": [
       "\\begin{tabular}{r|llllll}\n",
       "  & ENSG00000000003 & ENSG00000000005 & ENSG00000000419 & ENSG00000000457 & ENSG00000000460 & ENSG00000000938\\\\\n",
       "\\hline\n",
       "\t683665 & 3.238273  & 2.982254  & 10.235491 & 4.856061  & 4.078870  & 9.116236 \\\\\n",
       "\t683667 & 7.780713  & 2.753253  &  9.960137 & 4.351073  & 3.716740  & 3.222277 \\\\\n",
       "\t684052 & 7.301344  & 2.890533  &  9.922489 & 4.125088  & 3.678987  & 3.096576 \\\\\n",
       "\t684055 & 8.690198  & 3.091473  &  9.992487 & 4.572198  & 3.333385  & 3.320793 \\\\\n",
       "\t684057 & 8.233101  & 2.824687  & 10.015884 & 4.749715  & 3.839433  & 3.142754 \\\\\n",
       "\t684059 & 8.333466  & 3.966757  &  9.793991 & 3.976923  & 3.505669  & 3.079943 \\\\\n",
       "\\end{tabular}\n"
      ],
      "text/markdown": [
       "\n",
       "| <!--/--> | ENSG00000000003 | ENSG00000000005 | ENSG00000000419 | ENSG00000000457 | ENSG00000000460 | ENSG00000000938 | \n",
       "|---|---|---|---|---|---|\n",
       "| 683665 | 3.238273  | 2.982254  | 10.235491 | 4.856061  | 4.078870  | 9.116236  | \n",
       "| 683667 | 7.780713  | 2.753253  |  9.960137 | 4.351073  | 3.716740  | 3.222277  | \n",
       "| 684052 | 7.301344  | 2.890533  |  9.922489 | 4.125088  | 3.678987  | 3.096576  | \n",
       "| 684055 | 8.690198  | 3.091473  |  9.992487 | 4.572198  | 3.333385  | 3.320793  | \n",
       "| 684057 | 8.233101  | 2.824687  | 10.015884 | 4.749715  | 3.839433  | 3.142754  | \n",
       "| 684059 | 8.333466  | 3.966757  |  9.793991 | 3.976923  | 3.505669  | 3.079943  | \n",
       "\n",
       "\n"
      ],
      "text/plain": [
       "       ENSG00000000003 ENSG00000000005 ENSG00000000419 ENSG00000000457\n",
       "683665 3.238273        2.982254        10.235491       4.856061       \n",
       "683667 7.780713        2.753253         9.960137       4.351073       \n",
       "684052 7.301344        2.890533         9.922489       4.125088       \n",
       "684055 8.690198        3.091473         9.992487       4.572198       \n",
       "684057 8.233101        2.824687        10.015884       4.749715       \n",
       "684059 8.333466        3.966757         9.793991       3.976923       \n",
       "       ENSG00000000460 ENSG00000000938\n",
       "683665 4.078870        9.116236       \n",
       "683667 3.716740        3.222277       \n",
       "684052 3.678987        3.096576       \n",
       "684055 3.333385        3.320793       \n",
       "684057 3.839433        3.142754       \n",
       "684059 3.505669        3.079943       "
      ]
     },
     "metadata": {},
     "output_type": "display_data"
    }
   ],
   "source": [
    "dim(gene_exp)\n",
    "gene_exp[1:6,1:6]"
   ]
  },
  {
   "cell_type": "code",
   "execution_count": 38,
   "metadata": {},
   "outputs": [],
   "source": [
    "cell_lines <- row.names(gene_exp)"
   ]
  },
  {
   "cell_type": "code",
   "execution_count": 39,
   "metadata": {},
   "outputs": [
    {
     "data": {
      "text/html": [
       "954"
      ],
      "text/latex": [
       "954"
      ],
      "text/markdown": [
       "954"
      ],
      "text/plain": [
       "[1] 954"
      ]
     },
     "metadata": {},
     "output_type": "display_data"
    }
   ],
   "source": [
    "length(cell_lines)"
   ]
  },
  {
   "cell_type": "code",
   "execution_count": 40,
   "metadata": {},
   "outputs": [],
   "source": [
    "gdsc <- gdsc_useful %>% filter(CL %in% cell_lines)"
   ]
  },
  {
   "cell_type": "code",
   "execution_count": 42,
   "metadata": {},
   "outputs": [
    {
     "data": {
      "text/html": [
       "<table>\n",
       "<thead><tr><th scope=col>CL</th><th scope=col>CELL_LINE_NAME</th><th scope=col>maxc</th><th scope=col>DRUG_ID_lib</th><th scope=col>drug</th><th scope=col>IC50</th><th scope=col>rel_IC50</th><th scope=col>EFFECT</th></tr></thead>\n",
       "<tbody>\n",
       "\t<tr><td>683665    </td><td>MC-CAR    </td><td>2e+03     </td><td>1001      </td><td>1001_2000 </td><td> 5.248496 </td><td>0.09513990</td><td> TRUE     </td></tr>\n",
       "\t<tr><td>683665    </td><td>MC-CAR    </td><td>1e-01     </td><td>1003      </td><td>1003_0.1  </td><td>-4.526487 </td><td>0.10818620</td><td> TRUE     </td></tr>\n",
       "\t<tr><td>683665    </td><td>MC-CAR    </td><td>1e-01     </td><td>1004      </td><td>1004_0.1  </td><td>-5.123115 </td><td>0.05957439</td><td> TRUE     </td></tr>\n",
       "\t<tr><td>683665    </td><td>MC-CAR    </td><td>2e+00     </td><td>1006      </td><td>1006_2    </td><td>-2.955254 </td><td>0.02603271</td><td> TRUE     </td></tr>\n",
       "\t<tr><td>683665    </td><td>MC-CAR    </td><td>5e-01     </td><td>1010      </td><td>1010_0.5  </td><td> 1.575241 </td><td>9.66381402</td><td>FALSE     </td></tr>\n",
       "\t<tr><td>683665    </td><td>MC-CAR    </td><td>2e+00     </td><td>1011      </td><td>1011_2    </td><td>-3.773649 </td><td>0.01148405</td><td> TRUE     </td></tr>\n",
       "</tbody>\n",
       "</table>\n"
      ],
      "text/latex": [
       "\\begin{tabular}{r|llllllll}\n",
       " CL & CELL\\_LINE\\_NAME & maxc & DRUG\\_ID\\_lib & drug & IC50 & rel\\_IC50 & EFFECT\\\\\n",
       "\\hline\n",
       "\t 683665      & MC-CAR      & 2e+03       & 1001        & 1001\\_2000 &  5.248496   & 0.09513990  &  TRUE      \\\\\n",
       "\t 683665      & MC-CAR      & 1e-01       & 1003        & 1003\\_0.1  & -4.526487   & 0.10818620  &  TRUE      \\\\\n",
       "\t 683665      & MC-CAR      & 1e-01       & 1004        & 1004\\_0.1  & -5.123115   & 0.05957439  &  TRUE      \\\\\n",
       "\t 683665      & MC-CAR      & 2e+00       & 1006        & 1006\\_2    & -2.955254   & 0.02603271  &  TRUE      \\\\\n",
       "\t 683665      & MC-CAR      & 5e-01       & 1010        & 1010\\_0.5  &  1.575241   & 9.66381402  & FALSE      \\\\\n",
       "\t 683665      & MC-CAR      & 2e+00       & 1011        & 1011\\_2    & -3.773649   & 0.01148405  &  TRUE      \\\\\n",
       "\\end{tabular}\n"
      ],
      "text/markdown": [
       "\n",
       "CL | CELL_LINE_NAME | maxc | DRUG_ID_lib | drug | IC50 | rel_IC50 | EFFECT | \n",
       "|---|---|---|---|---|---|\n",
       "| 683665     | MC-CAR     | 2e+03      | 1001       | 1001_2000  |  5.248496  | 0.09513990 |  TRUE      | \n",
       "| 683665     | MC-CAR     | 1e-01      | 1003       | 1003_0.1   | -4.526487  | 0.10818620 |  TRUE      | \n",
       "| 683665     | MC-CAR     | 1e-01      | 1004       | 1004_0.1   | -5.123115  | 0.05957439 |  TRUE      | \n",
       "| 683665     | MC-CAR     | 2e+00      | 1006       | 1006_2     | -2.955254  | 0.02603271 |  TRUE      | \n",
       "| 683665     | MC-CAR     | 5e-01      | 1010       | 1010_0.5   |  1.575241  | 9.66381402 | FALSE      | \n",
       "| 683665     | MC-CAR     | 2e+00      | 1011       | 1011_2     | -3.773649  | 0.01148405 |  TRUE      | \n",
       "\n",
       "\n"
      ],
      "text/plain": [
       "  CL     CELL_LINE_NAME maxc  DRUG_ID_lib drug      IC50      rel_IC50   EFFECT\n",
       "1 683665 MC-CAR         2e+03 1001        1001_2000  5.248496 0.09513990  TRUE \n",
       "2 683665 MC-CAR         1e-01 1003        1003_0.1  -4.526487 0.10818620  TRUE \n",
       "3 683665 MC-CAR         1e-01 1004        1004_0.1  -5.123115 0.05957439  TRUE \n",
       "4 683665 MC-CAR         2e+00 1006        1006_2    -2.955254 0.02603271  TRUE \n",
       "5 683665 MC-CAR         5e-01 1010        1010_0.5   1.575241 9.66381402 FALSE \n",
       "6 683665 MC-CAR         2e+00 1011        1011_2    -3.773649 0.01148405  TRUE "
      ]
     },
     "metadata": {},
     "output_type": "display_data"
    }
   ],
   "source": [
    "head(gdsc)"
   ]
  },
  {
   "cell_type": "code",
   "execution_count": 43,
   "metadata": {},
   "outputs": [],
   "source": [
    "saveRDS(gdsc,'gdsc_screened.rds')\n",
    "saveRDS(gene_exp,'gene_expression.rds')"
   ]
  },
  {
   "cell_type": "code",
   "execution_count": null,
   "metadata": {},
   "outputs": [],
   "source": []
  },
  {
   "cell_type": "code",
   "execution_count": 44,
   "metadata": {},
   "outputs": [],
   "source": [
    "cl_1014 <- gdsc %>% filter(DRUG_ID_lib=='1014') %>% select('CL','EFFECT')"
   ]
  },
  {
   "cell_type": "code",
   "execution_count": 46,
   "metadata": {},
   "outputs": [],
   "source": [
    "gene_exp_1014 <- gene_exp[as.character(cl_1014$CL),]"
   ]
  },
  {
   "cell_type": "code",
   "execution_count": 50,
   "metadata": {},
   "outputs": [
    {
     "data": {
      "text/html": [
       "<ol class=list-inline>\n",
       "\t<li>280</li>\n",
       "\t<li>17737</li>\n",
       "</ol>\n"
      ],
      "text/latex": [
       "\\begin{enumerate*}\n",
       "\\item 280\n",
       "\\item 17737\n",
       "\\end{enumerate*}\n"
      ],
      "text/markdown": [
       "1. 280\n",
       "2. 17737\n",
       "\n",
       "\n"
      ],
      "text/plain": [
       "[1]   280 17737"
      ]
     },
     "metadata": {},
     "output_type": "display_data"
    }
   ],
   "source": [
    "dim(gene_exp_1014)"
   ]
  },
  {
   "cell_type": "code",
   "execution_count": 58,
   "metadata": {},
   "outputs": [
    {
     "data": {
      "text/html": [
       "<table>\n",
       "<thead><tr><th scope=col>CL</th><th scope=col>EFFECT</th><th scope=col>EXP</th></tr></thead>\n",
       "<tbody>\n",
       "\t<tr><td>683667  </td><td>FALSE   </td><td>3.465680</td></tr>\n",
       "\t<tr><td>684055  </td><td>FALSE   </td><td>2.881723</td></tr>\n",
       "\t<tr><td>684059  </td><td>FALSE   </td><td>3.018998</td></tr>\n",
       "\t<tr><td>684062  </td><td>FALSE   </td><td>2.923444</td></tr>\n",
       "\t<tr><td>687457  </td><td> TRUE   </td><td>3.085341</td></tr>\n",
       "\t<tr><td>687592  </td><td> TRUE   </td><td>2.924041</td></tr>\n",
       "</tbody>\n",
       "</table>\n"
      ],
      "text/latex": [
       "\\begin{tabular}{r|lll}\n",
       " CL & EFFECT & EXP\\\\\n",
       "\\hline\n",
       "\t 683667   & FALSE    & 3.465680\\\\\n",
       "\t 684055   & FALSE    & 2.881723\\\\\n",
       "\t 684059   & FALSE    & 3.018998\\\\\n",
       "\t 684062   & FALSE    & 2.923444\\\\\n",
       "\t 687457   &  TRUE    & 3.085341\\\\\n",
       "\t 687592   &  TRUE    & 2.924041\\\\\n",
       "\\end{tabular}\n"
      ],
      "text/markdown": [
       "\n",
       "CL | EFFECT | EXP | \n",
       "|---|---|---|---|---|---|\n",
       "| 683667   | FALSE    | 3.465680 | \n",
       "| 684055   | FALSE    | 2.881723 | \n",
       "| 684059   | FALSE    | 3.018998 | \n",
       "| 684062   | FALSE    | 2.923444 | \n",
       "| 687457   |  TRUE    | 3.085341 | \n",
       "| 687592   |  TRUE    | 2.924041 | \n",
       "\n",
       "\n"
      ],
      "text/plain": [
       "  CL     EFFECT EXP     \n",
       "1 683667 FALSE  3.465680\n",
       "2 684055 FALSE  2.881723\n",
       "3 684059 FALSE  3.018998\n",
       "4 684062 FALSE  2.923444\n",
       "5 687457  TRUE  3.085341\n",
       "6 687592  TRUE  2.924041"
      ]
     },
     "metadata": {},
     "output_type": "display_data"
    }
   ],
   "source": [
    "data_plot <- data.frame(cl_1014,EXP=gene_exp_1014[as.character(cl_1014$CL),1200])\n",
    "head(data_plot)"
   ]
  },
  {
   "cell_type": "code",
   "execution_count": 59,
   "metadata": {},
   "outputs": [
    {
     "data": {},
     "metadata": {},
     "output_type": "display_data"
    },
    {
     "data": {
      "image/png": "[encoded data removed]",
      "text/plain": [
       "plot without title"
      ]
     },
     "metadata": {},
     "output_type": "display_data"
    }
   ],
   "source": [
    "options(repr.plot.width=7,repr.plot.height=5)\n",
    "ggplot(data=data_plot)+geom_boxplot(aes(x=EFFECT,y=EXP))+labs(x=\"effective drug\",y=\"expression level\")"
   ]
  },
  {
   "cell_type": "code",
   "execution_count": 61,
   "metadata": {},
   "outputs": [
    {
     "data": {
      "text/plain": [
       "\n",
       "\tTwo Sample t-test\n",
       "\n",
       "data:  gene_exp_1014[cl_effect, 1] and gene_exp_1014[cl_ineffect, 1]\n",
       "t = 3.3348, df = 278, p-value = 0.0009698\n",
       "alternative hypothesis: true difference in means is not equal to 0\n",
       "95 percent confidence interval:\n",
       " 0.3179253 1.2340965\n",
       "sample estimates:\n",
       "mean of x mean of y \n",
       " 6.860047  6.084036 \n"
      ]
     },
     "metadata": {},
     "output_type": "display_data"
    }
   ],
   "source": [
    "cl_effect <- as.character(subset(cl_1014,EFFECT==TRUE)$CL)\n",
    "cl_ineffect <- as.character(subset(cl_1014,EFFECT==FALSE)$CL)\n",
    "t.test(x=gene_exp_1014[cl_effect,1],y=gene_exp_1014[cl_ineffect,1],var.equal=TRUE)"
   ]
  },
  {
   "cell_type": "code",
   "execution_count": null,
   "metadata": {},
   "outputs": [],
   "source": [
    "p.vec <- data.frame(GENE=colnames(gene_exp_1014),P=NA)\n",
    "for(i in 1:dim(p.vec)){\n",
    "    p.vec[i,2]<-t.test(x=gene_exp_1014[cl_effect,i],y=gene_exp_1014[cl_ineffect,i],var.equal=TRUE)$p.value \n",
    "}\n",
    "ggplot(data=p.vec,aes(x=P))+geom_histogram()+labs(x='p-value',y='Frequency')"
   ]
  }
 ],
 "metadata": {
  "kernelspec": {
   "display_name": "R",
   "language": "R",
   "name": "ir"
  },
  "language_info": {
   "codemirror_mode": "r",
   "file_extension": ".r",
   "mimetype": "text/x-r-source",
   "name": "R",
   "pygments_lexer": "r",
   "version": "3.4.4"
  }
 },
 "nbformat": 4,
 "nbformat_minor": 2
}
